{
 "cells": [
  {
   "cell_type": "markdown",
   "metadata": {},
   "source": [
    "# Internet archive 'big data' for 'small histories' \n",
    "\n",
    "Note: this is a work in progress. \n",
    "\n",
    "The web has been around for \n",
    "\n",
    "* Outline of project\n",
    "* reasoning \n",
    "* limitations \n"
   ]
  },
  {
   "cell_type": "markdown",
   "metadata": {},
   "source": [
    "### Getting the data\n",
    "\n",
    "The first couple of steps will take place outside of this notebook but are fairly straight forward. The first thing we will need to do is to get the data we are going to be working wit. A collection of open data from the internet archive can be found [here](http://data.webarchive.org.uk/opendata/). The dataset we are looking at can be downloaded from [here](http://data.webarchive.org.uk/opendata/ukwa.ds.2/host-linkage/). The file is around 16GB so you may want to consider using a download manager to download the file. A download manager should speed things up a little but also make it easier to deal with any issues during the download. I use [aira](https://aria2.github.io/) but there are other out there. Make sure you have enought room to download the file. \n",
    "\n",
    "Once you have the file downloaded on your computer we could do a number of different things. "
   ]
  },
  {
   "cell_type": "code",
   "execution_count": 34,
   "metadata": {
    "collapsed": false
   },
   "outputs": [],
   "source": [
    "import numpy as np\n",
    "from pandas import DataFrame\n",
    "import pandas as pd\n",
    "import matplotlib.pyplot as plt\n",
    "import re as re\n",
    "import seaborn as sns\n",
    "%matplotlib inline"
   ]
  },
  {
   "cell_type": "markdown",
   "metadata": {},
   "source": [
    "### Importing data into Python"
   ]
  },
  {
   "cell_type": "code",
   "execution_count": 27,
   "metadata": {
    "collapsed": false
   },
   "outputs": [],
   "source": [
    "wellcome_data = pd.read_table('wellcome-linkage.tsv', names=['year','origin','link','times-linked'], sep='\\||\\t', engine='python')\n"
   ]
  },
  {
   "cell_type": "code",
   "execution_count": 28,
   "metadata": {
    "collapsed": false,
    "scrolled": true
   },
   "outputs": [
    {
     "data": {
      "text/html": [
       "<div>\n",
       "<table border=\"1\" class=\"dataframe\">\n",
       "  <thead>\n",
       "    <tr style=\"text-align: right;\">\n",
       "      <th></th>\n",
       "      <th>year</th>\n",
       "      <th>origin</th>\n",
       "      <th>link</th>\n",
       "      <th>times-linked</th>\n",
       "    </tr>\n",
       "  </thead>\n",
       "  <tbody>\n",
       "    <tr>\n",
       "      <th>0</th>\n",
       "      <td>1996</td>\n",
       "      <td>odin.neuro.soton.ac.uk</td>\n",
       "      <td>www.wellcome.ac.uk</td>\n",
       "      <td>1</td>\n",
       "    </tr>\n",
       "    <tr>\n",
       "      <th>1</th>\n",
       "      <td>1996</td>\n",
       "      <td>tarantula.wellcome.ac.uk</td>\n",
       "      <td>tarantula.wellcome.ac.uk</td>\n",
       "      <td>24</td>\n",
       "    </tr>\n",
       "    <tr>\n",
       "      <th>2</th>\n",
       "      <td>1996</td>\n",
       "      <td>www.ability.org.uk</td>\n",
       "      <td>www.tmr.wellcome.ac.uk</td>\n",
       "      <td>1</td>\n",
       "    </tr>\n",
       "    <tr>\n",
       "      <th>3</th>\n",
       "      <td>1996</td>\n",
       "      <td>www.healthindex.co.uk</td>\n",
       "      <td>www.tmr.wellcome.ac.uk</td>\n",
       "      <td>1</td>\n",
       "    </tr>\n",
       "    <tr>\n",
       "      <th>4</th>\n",
       "      <td>1997</td>\n",
       "      <td>atuin.chime.ucl.ac.uk</td>\n",
       "      <td>www.wellcome.ac.uk</td>\n",
       "      <td>10</td>\n",
       "    </tr>\n",
       "    <tr>\n",
       "      <th>5</th>\n",
       "      <td>1997</td>\n",
       "      <td>back.niss.ac.uk</td>\n",
       "      <td>www.wellcome.ac.uk</td>\n",
       "      <td>1</td>\n",
       "    </tr>\n",
       "    <tr>\n",
       "      <th>6</th>\n",
       "      <td>1997</td>\n",
       "      <td>bushmills.mic.dundee.ac.uk</td>\n",
       "      <td>www.wellcome.ac.uk</td>\n",
       "      <td>2</td>\n",
       "    </tr>\n",
       "    <tr>\n",
       "      <th>7</th>\n",
       "      <td>1997</td>\n",
       "      <td>com2.uclan.ac.uk</td>\n",
       "      <td>www.wellcome.ac.uk</td>\n",
       "      <td>7</td>\n",
       "    </tr>\n",
       "    <tr>\n",
       "      <th>8</th>\n",
       "      <td>1997</td>\n",
       "      <td>epidemic.zoo.ox.ac.uk</td>\n",
       "      <td>www.tmr.wellcome.ac.uk</td>\n",
       "      <td>2</td>\n",
       "    </tr>\n",
       "    <tr>\n",
       "      <th>9</th>\n",
       "      <td>1997</td>\n",
       "      <td>garbo.psychol.ucl.ac.uk</td>\n",
       "      <td>www.wellcome.ac.uk</td>\n",
       "      <td>5</td>\n",
       "    </tr>\n",
       "  </tbody>\n",
       "</table>\n",
       "</div>"
      ],
      "text/plain": [
       "   year                      origin                      link  times-linked\n",
       "0  1996      odin.neuro.soton.ac.uk        www.wellcome.ac.uk             1\n",
       "1  1996    tarantula.wellcome.ac.uk  tarantula.wellcome.ac.uk            24\n",
       "2  1996          www.ability.org.uk    www.tmr.wellcome.ac.uk             1\n",
       "3  1996       www.healthindex.co.uk    www.tmr.wellcome.ac.uk             1\n",
       "4  1997       atuin.chime.ucl.ac.uk        www.wellcome.ac.uk            10\n",
       "5  1997             back.niss.ac.uk        www.wellcome.ac.uk             1\n",
       "6  1997  bushmills.mic.dundee.ac.uk        www.wellcome.ac.uk             2\n",
       "7  1997            com2.uclan.ac.uk        www.wellcome.ac.uk             7\n",
       "8  1997       epidemic.zoo.ox.ac.uk    www.tmr.wellcome.ac.uk             2\n",
       "9  1997     garbo.psychol.ucl.ac.uk        www.wellcome.ac.uk             5"
      ]
     },
     "execution_count": 28,
     "metadata": {},
     "output_type": "execute_result"
    }
   ],
   "source": [
    "wellcome_data[:10]"
   ]
  },
  {
   "cell_type": "markdown",
   "metadata": {},
   "source": [
    "### sorting data by times-linked\n",
    "\n",
    "* sort by number of times linked\n"
   ]
  },
  {
   "cell_type": "code",
   "execution_count": 29,
   "metadata": {
    "collapsed": false
   },
   "outputs": [
    {
     "data": {
      "text/html": [
       "<div>\n",
       "<table border=\"1\" class=\"dataframe\">\n",
       "  <thead>\n",
       "    <tr style=\"text-align: right;\">\n",
       "      <th></th>\n",
       "      <th>year</th>\n",
       "      <th>origin</th>\n",
       "      <th>link</th>\n",
       "      <th>times-linked</th>\n",
       "    </tr>\n",
       "  </thead>\n",
       "  <tbody>\n",
       "    <tr>\n",
       "      <th>14321</th>\n",
       "      <td>2004</td>\n",
       "      <td>www.wellcome.ac.uk</td>\n",
       "      <td>www.wellcome.ac.uk</td>\n",
       "      <td>619077</td>\n",
       "    </tr>\n",
       "    <tr>\n",
       "      <th>10467</th>\n",
       "      <td>2003</td>\n",
       "      <td>www.wellcome.ac.uk</td>\n",
       "      <td>www.wellcome.ac.uk</td>\n",
       "      <td>483541</td>\n",
       "    </tr>\n",
       "    <tr>\n",
       "      <th>26772</th>\n",
       "      <td>2008</td>\n",
       "      <td>www.wellcome.ac.uk</td>\n",
       "      <td>www.wellcome.ac.uk</td>\n",
       "      <td>247042</td>\n",
       "    </tr>\n",
       "    <tr>\n",
       "      <th>17552</th>\n",
       "      <td>2005</td>\n",
       "      <td>www.wellcome.ac.uk</td>\n",
       "      <td>www.wellcome.ac.uk</td>\n",
       "      <td>237786</td>\n",
       "    </tr>\n",
       "    <tr>\n",
       "      <th>23856</th>\n",
       "      <td>2007</td>\n",
       "      <td>www.wellcome.ac.uk</td>\n",
       "      <td>www.wellcome.ac.uk</td>\n",
       "      <td>180320</td>\n",
       "    </tr>\n",
       "    <tr>\n",
       "      <th>20498</th>\n",
       "      <td>2006</td>\n",
       "      <td>www.wellcome.ac.uk</td>\n",
       "      <td>www.wellcome.ac.uk</td>\n",
       "      <td>169626</td>\n",
       "    </tr>\n",
       "    <tr>\n",
       "      <th>10922</th>\n",
       "      <td>2004</td>\n",
       "      <td>library.wellcome.ac.uk</td>\n",
       "      <td>library.wellcome.ac.uk</td>\n",
       "      <td>134802</td>\n",
       "    </tr>\n",
       "    <tr>\n",
       "      <th>4921</th>\n",
       "      <td>2001</td>\n",
       "      <td>www.wellcome.ac.uk</td>\n",
       "      <td>www.wellcome.ac.uk</td>\n",
       "      <td>125546</td>\n",
       "    </tr>\n",
       "    <tr>\n",
       "      <th>14751</th>\n",
       "      <td>2005</td>\n",
       "      <td>library.wellcome.ac.uk</td>\n",
       "      <td>library.wellcome.ac.uk</td>\n",
       "      <td>114517</td>\n",
       "    </tr>\n",
       "    <tr>\n",
       "      <th>31673</th>\n",
       "      <td>2010</td>\n",
       "      <td>www.wellcome.ac.uk</td>\n",
       "      <td>www.wellcome.ac.uk</td>\n",
       "      <td>109542</td>\n",
       "    </tr>\n",
       "    <tr>\n",
       "      <th>20733</th>\n",
       "      <td>2007</td>\n",
       "      <td>genome.wellcome.ac.uk</td>\n",
       "      <td>genome.wellcome.ac.uk</td>\n",
       "      <td>93092</td>\n",
       "    </tr>\n",
       "    <tr>\n",
       "      <th>29184</th>\n",
       "      <td>2009</td>\n",
       "      <td>www.wellcome.ac.uk</td>\n",
       "      <td>www.wellcome.ac.uk</td>\n",
       "      <td>84507</td>\n",
       "    </tr>\n",
       "    <tr>\n",
       "      <th>7182</th>\n",
       "      <td>2002</td>\n",
       "      <td>www.wellcome.ac.uk</td>\n",
       "      <td>www.wellcome.ac.uk</td>\n",
       "      <td>82982</td>\n",
       "    </tr>\n",
       "    <tr>\n",
       "      <th>7579</th>\n",
       "      <td>2003</td>\n",
       "      <td>library.wellcome.ac.uk</td>\n",
       "      <td>library.wellcome.ac.uk</td>\n",
       "      <td>77181</td>\n",
       "    </tr>\n",
       "    <tr>\n",
       "      <th>17793</th>\n",
       "      <td>2006</td>\n",
       "      <td>genome.wellcome.ac.uk</td>\n",
       "      <td>genome.wellcome.ac.uk</td>\n",
       "      <td>76442</td>\n",
       "    </tr>\n",
       "    <tr>\n",
       "      <th>21240</th>\n",
       "      <td>2007</td>\n",
       "      <td>library.wellcome.ac.uk</td>\n",
       "      <td>library.wellcome.ac.uk</td>\n",
       "      <td>63633</td>\n",
       "    </tr>\n",
       "    <tr>\n",
       "      <th>8012</th>\n",
       "      <td>2003</td>\n",
       "      <td>medphoto.wellcome.ac.uk</td>\n",
       "      <td>medphoto.wellcome.ac.uk</td>\n",
       "      <td>60482</td>\n",
       "    </tr>\n",
       "    <tr>\n",
       "      <th>2814</th>\n",
       "      <td>2000</td>\n",
       "      <td>www.wellcome.ac.uk</td>\n",
       "      <td>www.wellcome.ac.uk</td>\n",
       "      <td>47567</td>\n",
       "    </tr>\n",
       "    <tr>\n",
       "      <th>24064</th>\n",
       "      <td>2008</td>\n",
       "      <td>genome.wellcome.ac.uk</td>\n",
       "      <td>genome.wellcome.ac.uk</td>\n",
       "      <td>43632</td>\n",
       "    </tr>\n",
       "    <tr>\n",
       "      <th>18199</th>\n",
       "      <td>2006</td>\n",
       "      <td>library.wellcome.ac.uk</td>\n",
       "      <td>library.wellcome.ac.uk</td>\n",
       "      <td>37760</td>\n",
       "    </tr>\n",
       "  </tbody>\n",
       "</table>\n",
       "</div>"
      ],
      "text/plain": [
       "       year                   origin                     link  times-linked\n",
       "14321  2004       www.wellcome.ac.uk       www.wellcome.ac.uk        619077\n",
       "10467  2003       www.wellcome.ac.uk       www.wellcome.ac.uk        483541\n",
       "26772  2008       www.wellcome.ac.uk       www.wellcome.ac.uk        247042\n",
       "17552  2005       www.wellcome.ac.uk       www.wellcome.ac.uk        237786\n",
       "23856  2007       www.wellcome.ac.uk       www.wellcome.ac.uk        180320\n",
       "20498  2006       www.wellcome.ac.uk       www.wellcome.ac.uk        169626\n",
       "10922  2004   library.wellcome.ac.uk   library.wellcome.ac.uk        134802\n",
       "4921   2001       www.wellcome.ac.uk       www.wellcome.ac.uk        125546\n",
       "14751  2005   library.wellcome.ac.uk   library.wellcome.ac.uk        114517\n",
       "31673  2010       www.wellcome.ac.uk       www.wellcome.ac.uk        109542\n",
       "20733  2007    genome.wellcome.ac.uk    genome.wellcome.ac.uk         93092\n",
       "29184  2009       www.wellcome.ac.uk       www.wellcome.ac.uk         84507\n",
       "7182   2002       www.wellcome.ac.uk       www.wellcome.ac.uk         82982\n",
       "7579   2003   library.wellcome.ac.uk   library.wellcome.ac.uk         77181\n",
       "17793  2006    genome.wellcome.ac.uk    genome.wellcome.ac.uk         76442\n",
       "21240  2007   library.wellcome.ac.uk   library.wellcome.ac.uk         63633\n",
       "8012   2003  medphoto.wellcome.ac.uk  medphoto.wellcome.ac.uk         60482\n",
       "2814   2000       www.wellcome.ac.uk       www.wellcome.ac.uk         47567\n",
       "24064  2008    genome.wellcome.ac.uk    genome.wellcome.ac.uk         43632\n",
       "18199  2006   library.wellcome.ac.uk   library.wellcome.ac.uk         37760"
      ]
     },
     "execution_count": 29,
     "metadata": {},
     "output_type": "execute_result"
    }
   ],
   "source": [
    "wellcome_data.sort_values(by='times-linked', ascending=0)[:20]"
   ]
  },
  {
   "cell_type": "code",
   "execution_count": 46,
   "metadata": {
    "collapsed": false
   },
   "outputs": [
    {
     "data": {
      "text/html": [
       "<div>\n",
       "<table border=\"1\" class=\"dataframe\">\n",
       "  <thead>\n",
       "    <tr style=\"text-align: right;\">\n",
       "      <th></th>\n",
       "      <th>year</th>\n",
       "      <th>origin</th>\n",
       "      <th>link</th>\n",
       "      <th>times-linked</th>\n",
       "    </tr>\n",
       "  </thead>\n",
       "  <tbody>\n",
       "    <tr>\n",
       "      <th>29272</th>\n",
       "      <td>2010</td>\n",
       "      <td>0-www.emeraldinsight.com.libsys.wellcome.ac.uk</td>\n",
       "      <td>catalogue.wellcome.ac.uk</td>\n",
       "      <td>3</td>\n",
       "    </tr>\n",
       "    <tr>\n",
       "      <th>29273</th>\n",
       "      <td>2010</td>\n",
       "      <td>0-www.emeraldinsight.com.libsys.wellcome.ac.uk</td>\n",
       "      <td>library.wellcome.ac.uk</td>\n",
       "      <td>1</td>\n",
       "    </tr>\n",
       "    <tr>\n",
       "      <th>29274</th>\n",
       "      <td>2010</td>\n",
       "      <td>2009.eif.co.uk</td>\n",
       "      <td>www.wellcome.ac.uk</td>\n",
       "      <td>6</td>\n",
       "    </tr>\n",
       "    <tr>\n",
       "      <th>10579</th>\n",
       "      <td>2004</td>\n",
       "      <td>21stcentury.co.uk</td>\n",
       "      <td>library.wellcome.ac.uk</td>\n",
       "      <td>1</td>\n",
       "    </tr>\n",
       "    <tr>\n",
       "      <th>10580</th>\n",
       "      <td>2004</td>\n",
       "      <td>21stcentury.co.uk</td>\n",
       "      <td>www.wellcome.ac.uk</td>\n",
       "      <td>1</td>\n",
       "    </tr>\n",
       "    <tr>\n",
       "      <th>20584</th>\n",
       "      <td>2007</td>\n",
       "      <td>23.me.uk</td>\n",
       "      <td>www.wellcome.ac.uk</td>\n",
       "      <td>1</td>\n",
       "    </tr>\n",
       "    <tr>\n",
       "      <th>17664</th>\n",
       "      <td>2006</td>\n",
       "      <td>23.me.uk</td>\n",
       "      <td>www.wellcome.ac.uk</td>\n",
       "      <td>3</td>\n",
       "    </tr>\n",
       "    <tr>\n",
       "      <th>14449</th>\n",
       "      <td>2005</td>\n",
       "      <td>23.me.uk</td>\n",
       "      <td>www.wellcome.ac.uk</td>\n",
       "      <td>3</td>\n",
       "    </tr>\n",
       "    <tr>\n",
       "      <th>23956</th>\n",
       "      <td>2008</td>\n",
       "      <td>23.me.uk</td>\n",
       "      <td>www.wellcome.ac.uk</td>\n",
       "      <td>1</td>\n",
       "    </tr>\n",
       "    <tr>\n",
       "      <th>20585</th>\n",
       "      <td>2007</td>\n",
       "      <td>3dmetrics.co.uk</td>\n",
       "      <td>www.wellcome.ac.uk</td>\n",
       "      <td>1</td>\n",
       "    </tr>\n",
       "    <tr>\n",
       "      <th>29275</th>\n",
       "      <td>2010</td>\n",
       "      <td>3dmetrics.me.uk</td>\n",
       "      <td>www.wellcome.ac.uk</td>\n",
       "      <td>5</td>\n",
       "    </tr>\n",
       "    <tr>\n",
       "      <th>26866</th>\n",
       "      <td>2009</td>\n",
       "      <td>3dvisa.cch.kcl.ac.uk</td>\n",
       "      <td>library.wellcome.ac.uk</td>\n",
       "      <td>1</td>\n",
       "    </tr>\n",
       "    <tr>\n",
       "      <th>20586</th>\n",
       "      <td>2007</td>\n",
       "      <td>3dvisa.cch.kcl.ac.uk</td>\n",
       "      <td>library.wellcome.ac.uk</td>\n",
       "      <td>1</td>\n",
       "    </tr>\n",
       "    <tr>\n",
       "      <th>29276</th>\n",
       "      <td>2010</td>\n",
       "      <td>3dvisa.cch.kcl.ac.uk</td>\n",
       "      <td>library.wellcome.ac.uk</td>\n",
       "      <td>1</td>\n",
       "    </tr>\n",
       "    <tr>\n",
       "      <th>17665</th>\n",
       "      <td>2006</td>\n",
       "      <td>4691.niengineering.co.uk</td>\n",
       "      <td>library.wellcome.ac.uk</td>\n",
       "      <td>1</td>\n",
       "    </tr>\n",
       "    <tr>\n",
       "      <th>4980</th>\n",
       "      <td>2002</td>\n",
       "      <td>4ganic.co.uk</td>\n",
       "      <td>www.wellcome.ac.uk</td>\n",
       "      <td>2</td>\n",
       "    </tr>\n",
       "    <tr>\n",
       "      <th>17666</th>\n",
       "      <td>2006</td>\n",
       "      <td>4producers.co.uk</td>\n",
       "      <td>www.wellcome.ac.uk</td>\n",
       "      <td>1</td>\n",
       "    </tr>\n",
       "    <tr>\n",
       "      <th>26867</th>\n",
       "      <td>2009</td>\n",
       "      <td>5elementacupuncture.co.uk</td>\n",
       "      <td>library.wellcome.ac.uk</td>\n",
       "      <td>1</td>\n",
       "    </tr>\n",
       "    <tr>\n",
       "      <th>7259</th>\n",
       "      <td>2003</td>\n",
       "      <td>999albania.co.uk</td>\n",
       "      <td>www.wellcome.ac.uk</td>\n",
       "      <td>1</td>\n",
       "    </tr>\n",
       "    <tr>\n",
       "      <th>7260</th>\n",
       "      <td>2003</td>\n",
       "      <td>999charity.co.uk</td>\n",
       "      <td>www.wellcome.ac.uk</td>\n",
       "      <td>1</td>\n",
       "    </tr>\n",
       "  </tbody>\n",
       "</table>\n",
       "</div>"
      ],
      "text/plain": [
       "       year                                          origin  \\\n",
       "29272  2010  0-www.emeraldinsight.com.libsys.wellcome.ac.uk   \n",
       "29273  2010  0-www.emeraldinsight.com.libsys.wellcome.ac.uk   \n",
       "29274  2010                                  2009.eif.co.uk   \n",
       "10579  2004                               21stcentury.co.uk   \n",
       "10580  2004                               21stcentury.co.uk   \n",
       "20584  2007                                        23.me.uk   \n",
       "17664  2006                                        23.me.uk   \n",
       "14449  2005                                        23.me.uk   \n",
       "23956  2008                                        23.me.uk   \n",
       "20585  2007                                 3dmetrics.co.uk   \n",
       "29275  2010                                 3dmetrics.me.uk   \n",
       "26866  2009                            3dvisa.cch.kcl.ac.uk   \n",
       "20586  2007                            3dvisa.cch.kcl.ac.uk   \n",
       "29276  2010                            3dvisa.cch.kcl.ac.uk   \n",
       "17665  2006                        4691.niengineering.co.uk   \n",
       "4980   2002                                    4ganic.co.uk   \n",
       "17666  2006                                4producers.co.uk   \n",
       "26867  2009                       5elementacupuncture.co.uk   \n",
       "7259   2003                                999albania.co.uk   \n",
       "7260   2003                                999charity.co.uk   \n",
       "\n",
       "                           link  times-linked  \n",
       "29272  catalogue.wellcome.ac.uk             3  \n",
       "29273    library.wellcome.ac.uk             1  \n",
       "29274        www.wellcome.ac.uk             6  \n",
       "10579    library.wellcome.ac.uk             1  \n",
       "10580        www.wellcome.ac.uk             1  \n",
       "20584        www.wellcome.ac.uk             1  \n",
       "17664        www.wellcome.ac.uk             3  \n",
       "14449        www.wellcome.ac.uk             3  \n",
       "23956        www.wellcome.ac.uk             1  \n",
       "20585        www.wellcome.ac.uk             1  \n",
       "29275        www.wellcome.ac.uk             5  \n",
       "26866    library.wellcome.ac.uk             1  \n",
       "20586    library.wellcome.ac.uk             1  \n",
       "29276    library.wellcome.ac.uk             1  \n",
       "17665    library.wellcome.ac.uk             1  \n",
       "4980         www.wellcome.ac.uk             2  \n",
       "17666        www.wellcome.ac.uk             1  \n",
       "26867    library.wellcome.ac.uk             1  \n",
       "7259         www.wellcome.ac.uk             1  \n",
       "7260         www.wellcome.ac.uk             1  "
      ]
     },
     "execution_count": 46,
     "metadata": {},
     "output_type": "execute_result"
    }
   ],
   "source": [
    "wellcome_data.sort_values(by='origin', ascending=1)[:20]"
   ]
  },
  {
   "cell_type": "markdown",
   "metadata": {},
   "source": [
    "### Number of links over time\n",
    "\n",
    "* number of links to and from the Wellome.ac.uk website. "
   ]
  },
  {
   "cell_type": "code",
   "execution_count": 36,
   "metadata": {
    "collapsed": false,
    "scrolled": true
   },
   "outputs": [
    {
     "data": {
      "text/plain": [
       "<matplotlib.axes._subplots.AxesSubplot at 0x10e59bdd8>"
      ]
     },
     "execution_count": 36,
     "metadata": {},
     "output_type": "execute_result"
    },
    {
     "data": {
      "image/png": "[encoded data removed]",
      "text/plain": [
       "<matplotlib.figure.Figure at 0x10e03b898>"
      ]
     },
     "metadata": {},
     "output_type": "display_data"
    }
   ],
   "source": [
    "\n",
    "sns.distplot(wellcome_data['year'], bins=14)"
   ]
  },
  {
   "cell_type": "markdown",
   "metadata": {},
   "source": [
    "Explanation for above"
   ]
  },
  {
   "cell_type": "markdown",
   "metadata": {},
   "source": [
    "### Comparing 1996 to 2010 "
   ]
  },
  {
   "cell_type": "code",
   "execution_count": 37,
   "metadata": {
    "collapsed": false
   },
   "outputs": [],
   "source": [
    "wellcome_data1996 = wellcome_data[wellcome_data.year ==1996]\n",
    "wellcome_data2010 = wellcome_data[wellcome_data.year ==2010]"
   ]
  },
  {
   "cell_type": "code",
   "execution_count": 44,
   "metadata": {
    "collapsed": false
   },
   "outputs": [
    {
     "name": "stdout",
     "output_type": "stream",
     "text": [
      "[]\n"
     ]
    }
   ],
   "source": [
    "shared_links = []\n",
    "non_shared_links =[]\n",
    "\n",
    "for link in wellcome_data['origin']:\n",
    "    if link in wellcome_data['link']:\n",
    "        shared_links.append(link)\n",
    "    else:\n",
    "        non_shared_links.append(link)\n",
    "print(shared_links)\n"
   ]
  },
  {
   "cell_type": "markdown",
   "metadata": {},
   "source": [
    "### Looking at wellcome links to other websites\n",
    "sort origin to only include wellcome.ac.uk domain. \n"
   ]
  },
  {
   "cell_type": "code",
   "execution_count": null,
   "metadata": {
    "collapsed": false
   },
   "outputs": [],
   "source": []
  },
  {
   "cell_type": "markdown",
   "metadata": {},
   "source": [
    "## Visualising links\n",
    "* link to http://nbviewer.jupyter.org/github/anjackson/keeping-codes/blob/gh-pages/experiments/Visualising%20Link%20Dynamics.ipynb\n",
    "* outline other approaches"
   ]
  },
  {
   "cell_type": "code",
   "execution_count": 3,
   "metadata": {
    "collapsed": false
   },
   "outputs": [
    {
     "name": "stdout",
     "output_type": "stream",
     "text": [
      "1996|odin.neuro.soton.ac.uk|www.wellcome.ac.uk\t1\n",
      "\n",
      "['1996', 'odin.neuro.soton.ac.uk', 'www.wellcome.ac.uk', '1']\n"
     ]
    }
   ],
   "source": [
    "with open('wellcome-linkage.tsv', 'r') as f:\n",
    "    for line in f:\n",
    "        print(line)\n",
    "        row = line.rstrip().replace('|','\\t').split(\"\\t\")\n",
    "        print(row)\n",
    "        break"
   ]
  },
  {
   "cell_type": "code",
   "execution_count": 7,
   "metadata": {
    "collapsed": false
   },
   "outputs": [
    {
     "name": "stdout",
     "output_type": "stream",
     "text": [
      "820454400|appserver.ed.ac.uk|A|uk/ac/ed/appserver|FF0000\n"
     ]
    }
   ],
   "source": [
    "import time\n",
    "\n",
    "def gource_format(line):\n",
    "    row = line.rstrip().replace('|','\\t').split(\"\\t\")\n",
    "    timestamp = int(time.mktime(time.strptime(row[0], \"%Y\")))\n",
    "    hostname = row[1]\n",
    "    blhost = row[2]\n",
    "    action = \"A\"\n",
    "    colour = \"FF0000\"\n",
    "    if( blhost.find(\"bl.uk\") == -1 ):\n",
    "        hostname = row[2]\n",
    "        blhost = row[1]\n",
    "        colour = \"0000FF\"\n",
    "    #path = '/'.join(reversed(blhost.split('.')))\n",
    "    #path = path +'/' + '/'.join(reversed(hostname.split('.')))\n",
    "    path = '/'.join(reversed(hostname.split('.')))\n",
    "    return \"{}|{}|{}|{}|{}\".format(timestamp,hostname,action,path,colour)\n",
    "    \n",
    "print(gource_format(\"1996|appserver.ed.ac.uk|portico.bl.uk\t1\"))\n",
    "\n",
    "\n",
    "    "
   ]
  },
  {
   "cell_type": "code",
   "execution_count": 8,
   "metadata": {
    "collapsed": false
   },
   "outputs": [
    {
     "name": "stdout",
     "output_type": "stream",
     "text": [
      "10000 2003|www.wellcome.ac.uk|www.ch.cam.ac.uk\t3\n",
      " 1041379200|www.ch.cam.ac.uk|A|uk/ac/cam/ch/www|0000FF \n",
      "\n",
      "20000 2006|www.wellcome.ac.uk|www.breeam.org\t2\n",
      " 1136073600|www.breeam.org|A|org/breeam/www|0000FF \n",
      "\n",
      "30000 2010|wisdomnet.co.uk|www.wellcome.ac.uk\t5\n",
      " 1262304000|www.wellcome.ac.uk|A|uk/ac/wellcome/www|0000FF \n",
      "\n",
      "Wrote 31766 lines.\n"
     ]
    }
   ],
   "source": [
    "# Open input and output files\n",
    "with open('wellcome-linkage.tsv', 'r') as fin:\n",
    "    with open('wellcome-linkage.log', 'w') as fout:\n",
    "        counter = 0\n",
    "        for line in fin:\n",
    "            # Reformat:\n",
    "            # for each line gource_format definition used\n",
    "            new_line = gource_format(line)\n",
    "            fout.write(new_line)\n",
    "            fout.write('\\n')\n",
    "            \n",
    "            # Also count:\n",
    "            counter = counter + 1\n",
    "            \n",
    "            # Report progress:\n",
    "            if( counter%10000 == 0 ):\n",
    "                print(counter, line, new_line, '\\n')\n",
    "            \n",
    "    # Report outcome:\n",
    "    print(\"Wrote {} lines.\".format(counter))\n",
    "    fout.close()\n",
    "    \n",
    "\n"
   ]
  }
 ],
 "metadata": {
  "kernelspec": {
   "display_name": "Python 3",
   "language": "python",
   "name": "python3"
  },
  "language_info": {
   "codemirror_mode": {
    "name": "ipython",
    "version": 3
   },
   "file_extension": ".py",
   "mimetype": "text/x-python",
   "name": "python",
   "nbconvert_exporter": "python",
   "pygments_lexer": "ipython3",
   "version": "3.5.1"
  }
 },
 "nbformat": 4,
 "nbformat_minor": 0
}
