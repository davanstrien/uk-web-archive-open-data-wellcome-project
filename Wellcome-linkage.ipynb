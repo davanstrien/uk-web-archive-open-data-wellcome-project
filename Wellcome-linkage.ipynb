{
 "cells": [
  {
   "cell_type": "markdown",
   "metadata": {},
   "source": [
    "# Internet archive 'big data' for 'small histories' \n",
    "* Outline of project\n",
    "* reasoning \n",
    "* limitations \n"
   ]
  },
  {
   "cell_type": "code",
   "execution_count": 9,
   "metadata": {
    "collapsed": true
   },
   "outputs": [],
   "source": [
    "import numpy as np\n",
    "from pandas import DataFrame\n",
    "import pandas as pd\n",
    "import matplotlib.pyplot as plt"
   ]
  },
  {
   "cell_type": "code",
   "execution_count": 16,
   "metadata": {
    "collapsed": false
   },
   "outputs": [],
   "source": [
    "wellcome_data = pd.read_table('wellcome-linkage.tsv', sep='|', names=['year', 'origin-domain', 'linked-domain'])\n"
   ]
  },
  {
   "cell_type": "code",
   "execution_count": 18,
   "metadata": {
    "collapsed": false
   },
   "outputs": [
    {
     "data": {
      "text/html": [
       "<div>\n",
       "<table border=\"1\" class=\"dataframe\">\n",
       "  <thead>\n",
       "    <tr style=\"text-align: right;\">\n",
       "      <th></th>\n",
       "      <th>year</th>\n",
       "      <th>origin-domain</th>\n",
       "      <th>linked-domain</th>\n",
       "    </tr>\n",
       "  </thead>\n",
       "  <tbody>\n",
       "    <tr>\n",
       "      <th>0</th>\n",
       "      <td>1996</td>\n",
       "      <td>odin.neuro.soton.ac.uk</td>\n",
       "      <td>www.wellcome.ac.uk\\t1</td>\n",
       "    </tr>\n",
       "    <tr>\n",
       "      <th>1</th>\n",
       "      <td>1996</td>\n",
       "      <td>tarantula.wellcome.ac.uk</td>\n",
       "      <td>tarantula.wellcome.ac.uk\\t24</td>\n",
       "    </tr>\n",
       "    <tr>\n",
       "      <th>2</th>\n",
       "      <td>1996</td>\n",
       "      <td>www.ability.org.uk</td>\n",
       "      <td>www.tmr.wellcome.ac.uk\\t1</td>\n",
       "    </tr>\n",
       "    <tr>\n",
       "      <th>3</th>\n",
       "      <td>1996</td>\n",
       "      <td>www.healthindex.co.uk</td>\n",
       "      <td>www.tmr.wellcome.ac.uk\\t1</td>\n",
       "    </tr>\n",
       "    <tr>\n",
       "      <th>4</th>\n",
       "      <td>1997</td>\n",
       "      <td>atuin.chime.ucl.ac.uk</td>\n",
       "      <td>www.wellcome.ac.uk\\t10</td>\n",
       "    </tr>\n",
       "    <tr>\n",
       "      <th>5</th>\n",
       "      <td>1997</td>\n",
       "      <td>back.niss.ac.uk</td>\n",
       "      <td>www.wellcome.ac.uk\\t1</td>\n",
       "    </tr>\n",
       "    <tr>\n",
       "      <th>6</th>\n",
       "      <td>1997</td>\n",
       "      <td>bushmills.mic.dundee.ac.uk</td>\n",
       "      <td>www.wellcome.ac.uk\\t2</td>\n",
       "    </tr>\n",
       "    <tr>\n",
       "      <th>7</th>\n",
       "      <td>1997</td>\n",
       "      <td>com2.uclan.ac.uk</td>\n",
       "      <td>www.wellcome.ac.uk\\t7</td>\n",
       "    </tr>\n",
       "    <tr>\n",
       "      <th>8</th>\n",
       "      <td>1997</td>\n",
       "      <td>epidemic.zoo.ox.ac.uk</td>\n",
       "      <td>www.tmr.wellcome.ac.uk\\t2</td>\n",
       "    </tr>\n",
       "    <tr>\n",
       "      <th>9</th>\n",
       "      <td>1997</td>\n",
       "      <td>garbo.psychol.ucl.ac.uk</td>\n",
       "      <td>www.wellcome.ac.uk\\t5</td>\n",
       "    </tr>\n",
       "  </tbody>\n",
       "</table>\n",
       "</div>"
      ],
      "text/plain": [
       "   year               origin-domain                 linked-domain\n",
       "0  1996      odin.neuro.soton.ac.uk         www.wellcome.ac.uk\\t1\n",
       "1  1996    tarantula.wellcome.ac.uk  tarantula.wellcome.ac.uk\\t24\n",
       "2  1996          www.ability.org.uk     www.tmr.wellcome.ac.uk\\t1\n",
       "3  1996       www.healthindex.co.uk     www.tmr.wellcome.ac.uk\\t1\n",
       "4  1997       atuin.chime.ucl.ac.uk        www.wellcome.ac.uk\\t10\n",
       "5  1997             back.niss.ac.uk         www.wellcome.ac.uk\\t1\n",
       "6  1997  bushmills.mic.dundee.ac.uk         www.wellcome.ac.uk\\t2\n",
       "7  1997            com2.uclan.ac.uk         www.wellcome.ac.uk\\t7\n",
       "8  1997       epidemic.zoo.ox.ac.uk     www.tmr.wellcome.ac.uk\\t2\n",
       "9  1997     garbo.psychol.ucl.ac.uk         www.wellcome.ac.uk\\t5"
      ]
     },
     "execution_count": 18,
     "metadata": {},
     "output_type": "execute_result"
    }
   ],
   "source": [
    "wellcome_data[:10]"
   ]
  }
 ],
 "metadata": {
  "kernelspec": {
   "display_name": "Python 3",
   "language": "python",
   "name": "python3"
  },
  "language_info": {
   "codemirror_mode": {
    "name": "ipython",
    "version": 3
   },
   "file_extension": ".py",
   "mimetype": "text/x-python",
   "name": "python",
   "nbconvert_exporter": "python",
   "pygments_lexer": "ipython3",
   "version": "3.5.1"
  }
 },
 "nbformat": 4,
 "nbformat_minor": 0
}
