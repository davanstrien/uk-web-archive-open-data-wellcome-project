{
 "cells": [
  {
   "cell_type": "markdown",
   "metadata": {},
   "source": [
    "# Internet archive 'big data' for 'small histories' \n",
    "\n",
    "Note: this is a work in progress. \n",
    "\n",
    "Web archives have been around for \n",
    "\n",
    "* Outline of project\n",
    "* reasoning \n",
    "* limitations \n"
   ]
  },
  {
   "cell_type": "markdown",
   "metadata": {},
   "source": [
    "### Getting the data\n",
    "\n",
    "The first couple of steps will take place outside of this notebook but are fairly straight forward. The first thing we will need to do is to get the data we are going to be working wit. A collection of open data from the internet archive can be found [here](http://data.webarchive.org.uk/opendata/). The dataset we are looking at can be downloaded from [here](http://data.webarchive.org.uk/opendata/ukwa.ds.2/host-linkage/). The file is around 16GB so you may want to consider using a download manager to download the file. A download manager should speed things up a little but also make it easier to deal with any issues during the download. I use [aira](https://aria2.github.io/) but there are other out there. Make sure you have enought room to download the file. \n",
    "\n",
    "Once you have the file downloaded on your computer we could do a number of different things. "
   ]
  },
  {
   "cell_type": "code",
   "execution_count": 226,
   "metadata": {
    "collapsed": false
   },
   "outputs": [],
   "source": [
    "import numpy as np\n",
    "from pandas import DataFrame\n",
    "import pandas as pd\n",
    "import matplotlib.pyplot as plt\n",
    "import re as re\n",
    "import seaborn"
   ]
  },
  {
   "cell_type": "markdown",
   "metadata": {},
   "source": [
    "### Importing data into Python"
   ]
  },
  {
   "cell_type": "code",
   "execution_count": 207,
   "metadata": {
    "collapsed": false
   },
   "outputs": [],
   "source": [
    "wellcome_data = pd.read_table('wellcome-linkage.tsv', names=['year','origin','link','times-linked'], sep='\\||\\t', engine='python')\n"
   ]
  },
  {
   "cell_type": "code",
   "execution_count": 259,
   "metadata": {
    "collapsed": false,
    "scrolled": true
   },
   "outputs": [
    {
     "data": {
      "text/html": [
       "<div>\n",
       "<table border=\"1\" class=\"dataframe\">\n",
       "  <thead>\n",
       "    <tr style=\"text-align: right;\">\n",
       "      <th></th>\n",
       "      <th>year</th>\n",
       "      <th>origin</th>\n",
       "      <th>link</th>\n",
       "      <th>times-linked</th>\n",
       "    </tr>\n",
       "  </thead>\n",
       "  <tbody>\n",
       "    <tr>\n",
       "      <th>0</th>\n",
       "      <td>1996</td>\n",
       "      <td>odin.neuro.soton.ac.uk</td>\n",
       "      <td>www.wellcome.ac.uk</td>\n",
       "      <td>1</td>\n",
       "    </tr>\n",
       "    <tr>\n",
       "      <th>1</th>\n",
       "      <td>1996</td>\n",
       "      <td>tarantula.wellcome.ac.uk</td>\n",
       "      <td>tarantula.wellcome.ac.uk</td>\n",
       "      <td>24</td>\n",
       "    </tr>\n",
       "    <tr>\n",
       "      <th>2</th>\n",
       "      <td>1996</td>\n",
       "      <td>www.ability.org.uk</td>\n",
       "      <td>www.tmr.wellcome.ac.uk</td>\n",
       "      <td>1</td>\n",
       "    </tr>\n",
       "    <tr>\n",
       "      <th>3</th>\n",
       "      <td>1996</td>\n",
       "      <td>www.healthindex.co.uk</td>\n",
       "      <td>www.tmr.wellcome.ac.uk</td>\n",
       "      <td>1</td>\n",
       "    </tr>\n",
       "    <tr>\n",
       "      <th>4</th>\n",
       "      <td>1997</td>\n",
       "      <td>atuin.chime.ucl.ac.uk</td>\n",
       "      <td>www.wellcome.ac.uk</td>\n",
       "      <td>10</td>\n",
       "    </tr>\n",
       "    <tr>\n",
       "      <th>5</th>\n",
       "      <td>1997</td>\n",
       "      <td>back.niss.ac.uk</td>\n",
       "      <td>www.wellcome.ac.uk</td>\n",
       "      <td>1</td>\n",
       "    </tr>\n",
       "    <tr>\n",
       "      <th>6</th>\n",
       "      <td>1997</td>\n",
       "      <td>bushmills.mic.dundee.ac.uk</td>\n",
       "      <td>www.wellcome.ac.uk</td>\n",
       "      <td>2</td>\n",
       "    </tr>\n",
       "    <tr>\n",
       "      <th>7</th>\n",
       "      <td>1997</td>\n",
       "      <td>com2.uclan.ac.uk</td>\n",
       "      <td>www.wellcome.ac.uk</td>\n",
       "      <td>7</td>\n",
       "    </tr>\n",
       "    <tr>\n",
       "      <th>8</th>\n",
       "      <td>1997</td>\n",
       "      <td>epidemic.zoo.ox.ac.uk</td>\n",
       "      <td>www.tmr.wellcome.ac.uk</td>\n",
       "      <td>2</td>\n",
       "    </tr>\n",
       "    <tr>\n",
       "      <th>9</th>\n",
       "      <td>1997</td>\n",
       "      <td>garbo.psychol.ucl.ac.uk</td>\n",
       "      <td>www.wellcome.ac.uk</td>\n",
       "      <td>5</td>\n",
       "    </tr>\n",
       "  </tbody>\n",
       "</table>\n",
       "</div>"
      ],
      "text/plain": [
       "   year                      origin                      link  times-linked\n",
       "0  1996      odin.neuro.soton.ac.uk        www.wellcome.ac.uk             1\n",
       "1  1996    tarantula.wellcome.ac.uk  tarantula.wellcome.ac.uk            24\n",
       "2  1996          www.ability.org.uk    www.tmr.wellcome.ac.uk             1\n",
       "3  1996       www.healthindex.co.uk    www.tmr.wellcome.ac.uk             1\n",
       "4  1997       atuin.chime.ucl.ac.uk        www.wellcome.ac.uk            10\n",
       "5  1997             back.niss.ac.uk        www.wellcome.ac.uk             1\n",
       "6  1997  bushmills.mic.dundee.ac.uk        www.wellcome.ac.uk             2\n",
       "7  1997            com2.uclan.ac.uk        www.wellcome.ac.uk             7\n",
       "8  1997       epidemic.zoo.ox.ac.uk    www.tmr.wellcome.ac.uk             2\n",
       "9  1997     garbo.psychol.ucl.ac.uk        www.wellcome.ac.uk             5"
      ]
     },
     "execution_count": 259,
     "metadata": {},
     "output_type": "execute_result"
    }
   ],
   "source": [
    "wellcome_data[:10]"
   ]
  },
  {
   "cell_type": "markdown",
   "metadata": {},
   "source": [
    "### sorting data by times-linked\n",
    "\n",
    "* sort by number of times linked\n"
   ]
  },
  {
   "cell_type": "code",
   "execution_count": 282,
   "metadata": {
    "collapsed": false
   },
   "outputs": [
    {
     "data": {
      "text/html": [
       "<div>\n",
       "<table border=\"1\" class=\"dataframe\">\n",
       "  <thead>\n",
       "    <tr style=\"text-align: right;\">\n",
       "      <th></th>\n",
       "      <th>year</th>\n",
       "      <th>origin</th>\n",
       "      <th>link</th>\n",
       "      <th>times-linked</th>\n",
       "    </tr>\n",
       "  </thead>\n",
       "  <tbody>\n",
       "    <tr>\n",
       "      <th>14321</th>\n",
       "      <td>2004</td>\n",
       "      <td>www.wellcome.ac.uk</td>\n",
       "      <td>www.wellcome.ac.uk</td>\n",
       "      <td>619077</td>\n",
       "    </tr>\n",
       "    <tr>\n",
       "      <th>10467</th>\n",
       "      <td>2003</td>\n",
       "      <td>www.wellcome.ac.uk</td>\n",
       "      <td>www.wellcome.ac.uk</td>\n",
       "      <td>483541</td>\n",
       "    </tr>\n",
       "    <tr>\n",
       "      <th>26772</th>\n",
       "      <td>2008</td>\n",
       "      <td>www.wellcome.ac.uk</td>\n",
       "      <td>www.wellcome.ac.uk</td>\n",
       "      <td>247042</td>\n",
       "    </tr>\n",
       "    <tr>\n",
       "      <th>17552</th>\n",
       "      <td>2005</td>\n",
       "      <td>www.wellcome.ac.uk</td>\n",
       "      <td>www.wellcome.ac.uk</td>\n",
       "      <td>237786</td>\n",
       "    </tr>\n",
       "    <tr>\n",
       "      <th>23856</th>\n",
       "      <td>2007</td>\n",
       "      <td>www.wellcome.ac.uk</td>\n",
       "      <td>www.wellcome.ac.uk</td>\n",
       "      <td>180320</td>\n",
       "    </tr>\n",
       "    <tr>\n",
       "      <th>20498</th>\n",
       "      <td>2006</td>\n",
       "      <td>www.wellcome.ac.uk</td>\n",
       "      <td>www.wellcome.ac.uk</td>\n",
       "      <td>169626</td>\n",
       "    </tr>\n",
       "    <tr>\n",
       "      <th>10922</th>\n",
       "      <td>2004</td>\n",
       "      <td>library.wellcome.ac.uk</td>\n",
       "      <td>library.wellcome.ac.uk</td>\n",
       "      <td>134802</td>\n",
       "    </tr>\n",
       "    <tr>\n",
       "      <th>4921</th>\n",
       "      <td>2001</td>\n",
       "      <td>www.wellcome.ac.uk</td>\n",
       "      <td>www.wellcome.ac.uk</td>\n",
       "      <td>125546</td>\n",
       "    </tr>\n",
       "    <tr>\n",
       "      <th>14751</th>\n",
       "      <td>2005</td>\n",
       "      <td>library.wellcome.ac.uk</td>\n",
       "      <td>library.wellcome.ac.uk</td>\n",
       "      <td>114517</td>\n",
       "    </tr>\n",
       "    <tr>\n",
       "      <th>31673</th>\n",
       "      <td>2010</td>\n",
       "      <td>www.wellcome.ac.uk</td>\n",
       "      <td>www.wellcome.ac.uk</td>\n",
       "      <td>109542</td>\n",
       "    </tr>\n",
       "    <tr>\n",
       "      <th>20733</th>\n",
       "      <td>2007</td>\n",
       "      <td>genome.wellcome.ac.uk</td>\n",
       "      <td>genome.wellcome.ac.uk</td>\n",
       "      <td>93092</td>\n",
       "    </tr>\n",
       "    <tr>\n",
       "      <th>29184</th>\n",
       "      <td>2009</td>\n",
       "      <td>www.wellcome.ac.uk</td>\n",
       "      <td>www.wellcome.ac.uk</td>\n",
       "      <td>84507</td>\n",
       "    </tr>\n",
       "    <tr>\n",
       "      <th>7182</th>\n",
       "      <td>2002</td>\n",
       "      <td>www.wellcome.ac.uk</td>\n",
       "      <td>www.wellcome.ac.uk</td>\n",
       "      <td>82982</td>\n",
       "    </tr>\n",
       "    <tr>\n",
       "      <th>7579</th>\n",
       "      <td>2003</td>\n",
       "      <td>library.wellcome.ac.uk</td>\n",
       "      <td>library.wellcome.ac.uk</td>\n",
       "      <td>77181</td>\n",
       "    </tr>\n",
       "    <tr>\n",
       "      <th>17793</th>\n",
       "      <td>2006</td>\n",
       "      <td>genome.wellcome.ac.uk</td>\n",
       "      <td>genome.wellcome.ac.uk</td>\n",
       "      <td>76442</td>\n",
       "    </tr>\n",
       "    <tr>\n",
       "      <th>21240</th>\n",
       "      <td>2007</td>\n",
       "      <td>library.wellcome.ac.uk</td>\n",
       "      <td>library.wellcome.ac.uk</td>\n",
       "      <td>63633</td>\n",
       "    </tr>\n",
       "    <tr>\n",
       "      <th>8012</th>\n",
       "      <td>2003</td>\n",
       "      <td>medphoto.wellcome.ac.uk</td>\n",
       "      <td>medphoto.wellcome.ac.uk</td>\n",
       "      <td>60482</td>\n",
       "    </tr>\n",
       "    <tr>\n",
       "      <th>2814</th>\n",
       "      <td>2000</td>\n",
       "      <td>www.wellcome.ac.uk</td>\n",
       "      <td>www.wellcome.ac.uk</td>\n",
       "      <td>47567</td>\n",
       "    </tr>\n",
       "    <tr>\n",
       "      <th>24064</th>\n",
       "      <td>2008</td>\n",
       "      <td>genome.wellcome.ac.uk</td>\n",
       "      <td>genome.wellcome.ac.uk</td>\n",
       "      <td>43632</td>\n",
       "    </tr>\n",
       "    <tr>\n",
       "      <th>18199</th>\n",
       "      <td>2006</td>\n",
       "      <td>library.wellcome.ac.uk</td>\n",
       "      <td>library.wellcome.ac.uk</td>\n",
       "      <td>37760</td>\n",
       "    </tr>\n",
       "  </tbody>\n",
       "</table>\n",
       "</div>"
      ],
      "text/plain": [
       "       year                   origin                     link  times-linked\n",
       "14321  2004       www.wellcome.ac.uk       www.wellcome.ac.uk        619077\n",
       "10467  2003       www.wellcome.ac.uk       www.wellcome.ac.uk        483541\n",
       "26772  2008       www.wellcome.ac.uk       www.wellcome.ac.uk        247042\n",
       "17552  2005       www.wellcome.ac.uk       www.wellcome.ac.uk        237786\n",
       "23856  2007       www.wellcome.ac.uk       www.wellcome.ac.uk        180320\n",
       "20498  2006       www.wellcome.ac.uk       www.wellcome.ac.uk        169626\n",
       "10922  2004   library.wellcome.ac.uk   library.wellcome.ac.uk        134802\n",
       "4921   2001       www.wellcome.ac.uk       www.wellcome.ac.uk        125546\n",
       "14751  2005   library.wellcome.ac.uk   library.wellcome.ac.uk        114517\n",
       "31673  2010       www.wellcome.ac.uk       www.wellcome.ac.uk        109542\n",
       "20733  2007    genome.wellcome.ac.uk    genome.wellcome.ac.uk         93092\n",
       "29184  2009       www.wellcome.ac.uk       www.wellcome.ac.uk         84507\n",
       "7182   2002       www.wellcome.ac.uk       www.wellcome.ac.uk         82982\n",
       "7579   2003   library.wellcome.ac.uk   library.wellcome.ac.uk         77181\n",
       "17793  2006    genome.wellcome.ac.uk    genome.wellcome.ac.uk         76442\n",
       "21240  2007   library.wellcome.ac.uk   library.wellcome.ac.uk         63633\n",
       "8012   2003  medphoto.wellcome.ac.uk  medphoto.wellcome.ac.uk         60482\n",
       "2814   2000       www.wellcome.ac.uk       www.wellcome.ac.uk         47567\n",
       "24064  2008    genome.wellcome.ac.uk    genome.wellcome.ac.uk         43632\n",
       "18199  2006   library.wellcome.ac.uk   library.wellcome.ac.uk         37760"
      ]
     },
     "execution_count": 282,
     "metadata": {},
     "output_type": "execute_result"
    }
   ],
   "source": [
    "wellcome_data.sort_values(by='times-linked', ascending=0)[:20]"
   ]
  },
  {
   "cell_type": "markdown",
   "metadata": {},
   "source": [
    "### Number of links over time\n",
    "\n",
    "* number of links to and from the Wellome.ac.uk website. "
   ]
  },
  {
   "cell_type": "code",
   "execution_count": 232,
   "metadata": {
    "collapsed": false
   },
   "outputs": [
    {
     "data": {
      "text/plain": [
       "<matplotlib.axes._subplots.AxesSubplot at 0x118925278>"
      ]
     },
     "execution_count": 232,
     "metadata": {},
     "output_type": "execute_result"
    },
    {
     "data": {
      "image/png": "[encoded data removed]",
      "text/plain": [
       "<matplotlib.figure.Figure at 0x1185c8630>"
      ]
     },
     "metadata": {},
     "output_type": "display_data"
    }
   ],
   "source": [
    "import seaborn\n",
    "seaborn.distplot(wellcome_data['year'], bins=14)"
   ]
  },
  {
   "cell_type": "markdown",
   "metadata": {},
   "source": [
    "### Comparing 1996 to 2010 "
   ]
  },
  {
   "cell_type": "code",
   "execution_count": 242,
   "metadata": {
    "collapsed": false
   },
   "outputs": [],
   "source": [
    "wellcome_data1996 = wellcome_data[wellcome_data.year ==1996]\n",
    "wellcome_data2010 = wellcome_data[wellcome_data.year ==2010]"
   ]
  },
  {
   "cell_type": "code",
   "execution_count": 249,
   "metadata": {
    "collapsed": false
   },
   "outputs": [
    {
     "name": "stdout",
     "output_type": "stream",
     "text": [
      "[]\n",
      "['www.wellcome.ac.uk', 'tarantula.wellcome.ac.uk', 'www.tmr.wellcome.ac.uk', 'www.tmr.wellcome.ac.uk']\n"
     ]
    }
   ],
   "source": [
    "shared_links = []\n",
    "non_shared_links = []\n",
    "for link in wellcome_data1996['link']:\n",
    "    if link in wellcome_data['link']:\n",
    "        shared_links.append(link)\n",
    "    else:\n",
    "        non_shared_links.append(link)\n",
    "print(shared_links)\n",
    "print(non_shared_links)"
   ]
  },
  {
   "cell_type": "markdown",
   "metadata": {},
   "source": [
    "### Looking at wellcome links to other websites\n",
    "sort origin to only include wellcome.ac.uk domain. \n"
   ]
  },
  {
   "cell_type": "code",
   "execution_count": 294,
   "metadata": {
    "collapsed": false
   },
   "outputs": [
    {
     "ename": "KeyError",
     "evalue": "\"['wellcome' 'wellcome' 'wellcome' ..., 'wellcome' 'wellcome' 'wellcome'] not in index\"",
     "output_type": "error",
     "traceback": [
      "\u001b[0;31m---------------------------------------------------------------------------\u001b[0m",
      "\u001b[0;31mKeyError\u001b[0m                                  Traceback (most recent call last)",
      "\u001b[0;32m<ipython-input-294-facd298dc3ae>\u001b[0m in \u001b[0;36m<module>\u001b[0;34m()\u001b[0m\n\u001b[1;32m      1\u001b[0m \u001b[0mwellcome_data_origin\u001b[0m \u001b[0;34m=\u001b[0m \u001b[0;34m[\u001b[0m\u001b[0;34m'wellcome'\u001b[0m \u001b[0;32mfor\u001b[0m \u001b[0mrow\u001b[0m \u001b[0;32min\u001b[0m \u001b[0mwellcome_data\u001b[0m\u001b[0;34m[\u001b[0m\u001b[0;34m'origin'\u001b[0m\u001b[0;34m]\u001b[0m\u001b[0;34m]\u001b[0m\u001b[0;34m\u001b[0m\u001b[0m\n\u001b[1;32m      2\u001b[0m \u001b[0;34m\u001b[0m\u001b[0m\n\u001b[0;32m----> 3\u001b[0;31m \u001b[0mwellcome_data\u001b[0m\u001b[0;34m[\u001b[0m\u001b[0mwellcome_data_origin\u001b[0m\u001b[0;34m]\u001b[0m\u001b[0;34m\u001b[0m\u001b[0m\n\u001b[0m\u001b[1;32m      4\u001b[0m \u001b[0;34m\u001b[0m\u001b[0m\n",
      "\u001b[0;32m/usr/local/lib/python3.5/site-packages/pandas/core/frame.py\u001b[0m in \u001b[0;36m__getitem__\u001b[0;34m(self, key)\u001b[0m\n\u001b[1;32m   1961\u001b[0m         \u001b[0;32mif\u001b[0m \u001b[0misinstance\u001b[0m\u001b[0;34m(\u001b[0m\u001b[0mkey\u001b[0m\u001b[0;34m,\u001b[0m \u001b[0;34m(\u001b[0m\u001b[0mSeries\u001b[0m\u001b[0;34m,\u001b[0m \u001b[0mnp\u001b[0m\u001b[0;34m.\u001b[0m\u001b[0mndarray\u001b[0m\u001b[0;34m,\u001b[0m \u001b[0mIndex\u001b[0m\u001b[0;34m,\u001b[0m \u001b[0mlist\u001b[0m\u001b[0;34m)\u001b[0m\u001b[0;34m)\u001b[0m\u001b[0;34m:\u001b[0m\u001b[0;34m\u001b[0m\u001b[0m\n\u001b[1;32m   1962\u001b[0m             \u001b[0;31m# either boolean or fancy integer index\u001b[0m\u001b[0;34m\u001b[0m\u001b[0;34m\u001b[0m\u001b[0m\n\u001b[0;32m-> 1963\u001b[0;31m             \u001b[0;32mreturn\u001b[0m \u001b[0mself\u001b[0m\u001b[0;34m.\u001b[0m\u001b[0m_getitem_array\u001b[0m\u001b[0;34m(\u001b[0m\u001b[0mkey\u001b[0m\u001b[0;34m)\u001b[0m\u001b[0;34m\u001b[0m\u001b[0m\n\u001b[0m\u001b[1;32m   1964\u001b[0m         \u001b[0;32melif\u001b[0m \u001b[0misinstance\u001b[0m\u001b[0;34m(\u001b[0m\u001b[0mkey\u001b[0m\u001b[0;34m,\u001b[0m \u001b[0mDataFrame\u001b[0m\u001b[0;34m)\u001b[0m\u001b[0;34m:\u001b[0m\u001b[0;34m\u001b[0m\u001b[0m\n\u001b[1;32m   1965\u001b[0m             \u001b[0;32mreturn\u001b[0m \u001b[0mself\u001b[0m\u001b[0;34m.\u001b[0m\u001b[0m_getitem_frame\u001b[0m\u001b[0;34m(\u001b[0m\u001b[0mkey\u001b[0m\u001b[0;34m)\u001b[0m\u001b[0;34m\u001b[0m\u001b[0m\n",
      "\u001b[0;32m/usr/local/lib/python3.5/site-packages/pandas/core/frame.py\u001b[0m in \u001b[0;36m_getitem_array\u001b[0;34m(self, key)\u001b[0m\n\u001b[1;32m   2005\u001b[0m             \u001b[0;32mreturn\u001b[0m \u001b[0mself\u001b[0m\u001b[0;34m.\u001b[0m\u001b[0mtake\u001b[0m\u001b[0;34m(\u001b[0m\u001b[0mindexer\u001b[0m\u001b[0;34m,\u001b[0m \u001b[0maxis\u001b[0m\u001b[0;34m=\u001b[0m\u001b[0;36m0\u001b[0m\u001b[0;34m,\u001b[0m \u001b[0mconvert\u001b[0m\u001b[0;34m=\u001b[0m\u001b[0;32mFalse\u001b[0m\u001b[0;34m)\u001b[0m\u001b[0;34m\u001b[0m\u001b[0m\n\u001b[1;32m   2006\u001b[0m         \u001b[0;32melse\u001b[0m\u001b[0;34m:\u001b[0m\u001b[0;34m\u001b[0m\u001b[0m\n\u001b[0;32m-> 2007\u001b[0;31m             \u001b[0mindexer\u001b[0m \u001b[0;34m=\u001b[0m \u001b[0mself\u001b[0m\u001b[0;34m.\u001b[0m\u001b[0mix\u001b[0m\u001b[0;34m.\u001b[0m\u001b[0m_convert_to_indexer\u001b[0m\u001b[0;34m(\u001b[0m\u001b[0mkey\u001b[0m\u001b[0;34m,\u001b[0m \u001b[0maxis\u001b[0m\u001b[0;34m=\u001b[0m\u001b[0;36m1\u001b[0m\u001b[0;34m)\u001b[0m\u001b[0;34m\u001b[0m\u001b[0m\n\u001b[0m\u001b[1;32m   2008\u001b[0m             \u001b[0;32mreturn\u001b[0m \u001b[0mself\u001b[0m\u001b[0;34m.\u001b[0m\u001b[0mtake\u001b[0m\u001b[0;34m(\u001b[0m\u001b[0mindexer\u001b[0m\u001b[0;34m,\u001b[0m \u001b[0maxis\u001b[0m\u001b[0;34m=\u001b[0m\u001b[0;36m1\u001b[0m\u001b[0;34m,\u001b[0m \u001b[0mconvert\u001b[0m\u001b[0;34m=\u001b[0m\u001b[0;32mTrue\u001b[0m\u001b[0;34m)\u001b[0m\u001b[0;34m\u001b[0m\u001b[0m\n\u001b[1;32m   2009\u001b[0m \u001b[0;34m\u001b[0m\u001b[0m\n",
      "\u001b[0;32m/usr/local/lib/python3.5/site-packages/pandas/core/indexing.py\u001b[0m in \u001b[0;36m_convert_to_indexer\u001b[0;34m(self, obj, axis, is_setter)\u001b[0m\n\u001b[1;32m   1148\u001b[0m                 \u001b[0mmask\u001b[0m \u001b[0;34m=\u001b[0m \u001b[0mcheck\u001b[0m \u001b[0;34m==\u001b[0m \u001b[0;34m-\u001b[0m\u001b[0;36m1\u001b[0m\u001b[0;34m\u001b[0m\u001b[0m\n\u001b[1;32m   1149\u001b[0m                 \u001b[0;32mif\u001b[0m \u001b[0mmask\u001b[0m\u001b[0;34m.\u001b[0m\u001b[0many\u001b[0m\u001b[0;34m(\u001b[0m\u001b[0;34m)\u001b[0m\u001b[0;34m:\u001b[0m\u001b[0;34m\u001b[0m\u001b[0m\n\u001b[0;32m-> 1150\u001b[0;31m                     \u001b[0;32mraise\u001b[0m \u001b[0mKeyError\u001b[0m\u001b[0;34m(\u001b[0m\u001b[0;34m'%s not in index'\u001b[0m \u001b[0;34m%\u001b[0m \u001b[0mobjarr\u001b[0m\u001b[0;34m[\u001b[0m\u001b[0mmask\u001b[0m\u001b[0;34m]\u001b[0m\u001b[0;34m)\u001b[0m\u001b[0;34m\u001b[0m\u001b[0m\n\u001b[0m\u001b[1;32m   1151\u001b[0m \u001b[0;34m\u001b[0m\u001b[0m\n\u001b[1;32m   1152\u001b[0m                 \u001b[0;32mreturn\u001b[0m \u001b[0m_values_from_object\u001b[0m\u001b[0;34m(\u001b[0m\u001b[0mindexer\u001b[0m\u001b[0;34m)\u001b[0m\u001b[0;34m\u001b[0m\u001b[0m\n",
      "\u001b[0;31mKeyError\u001b[0m: \"['wellcome' 'wellcome' 'wellcome' ..., 'wellcome' 'wellcome' 'wellcome'] not in index\""
     ]
    }
   ],
   "source": [
    "\n",
    "\n",
    "\n"
   ]
  }
 ],
 "metadata": {
  "kernelspec": {
   "display_name": "Python 3",
   "language": "python",
   "name": "python3"
  },
  "language_info": {
   "codemirror_mode": {
    "name": "ipython",
    "version": 3
   },
   "file_extension": ".py",
   "mimetype": "text/x-python",
   "name": "python",
   "nbconvert_exporter": "python",
   "pygments_lexer": "ipython3",
   "version": "3.5.1"
  }
 },
 "nbformat": 4,
 "nbformat_minor": 0
}
