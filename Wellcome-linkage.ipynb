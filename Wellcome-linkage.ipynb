{
 "cells": [
  {
   "cell_type": "markdown",
   "metadata": {},
   "source": [
    "# UK Web Archive Open Data: 'big data' for 'small histories' \n",
    "\n",
    "**Note: this is a work in progress. I will keep updating this when I have time. I am still learning Python so the code may contain errors or at the least not be done in the most efficient way.**\n",
    "\n",
    "The web has been around for over 20 years. As a result is is becoming an increasingly important resource for researchers. This is where web archives have an important role to play. Web archiving has been around for almost as long as the web. Web archives will become an increasingly important resource for historians and other researchers. However, despite the existence of a variety of web archives with extensive collections there are a number of potential barriers and difficulties in making use of web archives.\n",
    "\n",
    "One of these barriers are the legal restrictions on the creation and use of web archives. In 2003 the Legal Deposit Libraries Act (2003) was extended to cover online publications. This means that the majority of the UK web is now being archived. However, access ['to the whole legal deposit web archive will be possible only on premises controlled by one of the six legal deposit libraries.'](http://www.webarchive.org.uk/ukwa/info/about). The legal deposit collection is complemented with material for which permision has been gained and which is freely available. \n",
    "\n",
    "This material can be used in much the same way as might be done for a close reading of 'traditional' non electronic sources. However, web archives also present new oppertunities for interegating collections in new ways. Often this involves 'distant reading' of web archive collections. An example of this type of work is a project being carried out by Ian Milliagan and the ['web archives for historical research group'](https://uwaterloo.ca/web-archive-group/). \n",
    "\n",
    "One potential barrier to using big data methods for researchers may be technical - they are not sure how to extract the information they want from a web archive. A related problem though might be that researchers are not sure how to use a web archive 'distantly' if they interested in a history of the web itself (at least not directly). These researchers may benfit from a big data/distant reading approach to questions about a particular institution, rather than looking at a much wider dataset. The UK Web Archive Open Data consists primarily of a variety of metadata about the web, rather than the full text of the websites. This may present an additional barrier to researchers in knowing how this material could still be useful for addressing research questions. This notebook will attempt to suggest some potential approaches that could be taken. \n"
   ]
  },
  {
   "cell_type": "markdown",
   "metadata": {},
   "source": [
    "## UK Web Archive Open Data \n",
    "\n",
    "The UK Web Archive makes a number of datasets [available](http://data.webarchive.org.uk/opendata/) on an open basis. This notebook will try to demonstrate how one of these datasets could be used by historians in the manner described above. \n",
    "\n",
    "### Host Link Graph - JISC UK Web Domain Dataset (1996-2010)\n",
    "One of the datasets available contains host link data between 1996 and 2010. This data looks like\n",
    "```\n",
    "1996|appserver.ed.ac.uk|portico.bl.uk   1\n",
    "1996|art-www.acorn.co.uk|portico.bl.uk  1\n",
    "\n",
    "```\n",
    "The data is broken into four parts. The first column is the crawl years, the second the source or 'origin' link. The third link contains the 'destination link', the final collumn is the number of linking urls. Essentially this shows at a top level i.e. not a specific page, where a site has linked to. \n"
   ]
  },
  {
   "cell_type": "markdown",
   "metadata": {},
   "source": [
    "### Using this data\n",
    "\n",
    "A dataset like this can be explored in many different ways. One way would be to explore the whole dataset. However, we may not be primarily interested in the history of the web but are keen to use web archived material as a source. This notebook will try and outline this sort of approach using the Wellcome Trust's web presence as an example. If we were interested in an institutional history of the Wellcome, how researchers funders have interacted with the web or a related question we may want to explore web archives. \n"
   ]
  },
  {
   "cell_type": "markdown",
   "metadata": {},
   "source": [
    "### Issues with the data\n",
    "There are a number of issues with the dataset that we should be aware of. The primary one relates to the crawler settings used for different years not counting duplicated links between years. This means we should be cautious about using the number of times linked as an authorative number. These issues are discussed more on the datasets [page](http://data.webarchive.org.uk/opendata/ukwa.ds.2/host-linkage/). \n"
   ]
  },
  {
   "cell_type": "markdown",
   "metadata": {},
   "source": [
    "### Getting the data\n",
    "\n",
    "The first couple of steps will take place outside of this notebook but are fairly straight forward. The first thing we will need to do is to get the data we are going to be working wit. A collection of open data from the internet archive can be found [here](http://data.webarchive.org.uk/opendata/). The dataset we are looking at can be downloaded from [here](http://data.webarchive.org.uk/opendata/ukwa.ds.2/host-linkage/). The file is around 16GB so you may want to consider using a download manager to download the file. A download manager should speed things up a little but also make it easier to deal with any issues during the download. I use [aira](https://aria2.github.io/) but there are other out there. Make sure you have enought room to download the file. \n",
    "\n",
    "Once you have the file downloaded on your computer we can do a number of different things. The first thing we want to do is to get data related to the Wellcome out of the dataset. To do this we can modify the grep suggested on the [dataset page](http://data.webarchive.org.uk/opendata/ukwa.ds.2/host-linkage/) replacing the \"bl.uk\" with \"wellcome.ac.uk\""
   ]
  },
  {
   "cell_type": "code",
   "execution_count": null,
   "metadata": {
    "collapsed": true
   },
   "outputs": [],
   "source": [
    "% zgrep \"wellcome.ac.uk\" host-linkage.tsv.gz | sort > wellcome-linkage.tsv"
   ]
  },
  {
   "cell_type": "markdown",
   "metadata": {},
   "source": [
    "This will pull out data relating to the Wellcome and output it as a new file. This may take a while depending on your computer and the size of the data you are extracting. Once we have done this we can begin working with the data. "
   ]
  },
  {
   "cell_type": "code",
   "execution_count": 16,
   "metadata": {
    "collapsed": false
   },
   "outputs": [],
   "source": [
    "## import packages \n",
    "import numpy as np\n",
    "import pandas as pd\n",
    "from pandas import DataFrame\n",
    "import matplotlib.pyplot as plt\n",
    "import re as re\n",
    "import seaborn as sns\n",
    "import time\n",
    "## show plots in notebook\n",
    "%matplotlib inline"
   ]
  },
  {
   "cell_type": "markdown",
   "metadata": {},
   "source": [
    "### Importing data into Python"
   ]
  },
  {
   "cell_type": "markdown",
   "metadata": {},
   "source": [
    "First we will want to get our data into Python. "
   ]
  },
  {
   "cell_type": "code",
   "execution_count": 4,
   "metadata": {
    "collapsed": false
   },
   "outputs": [],
   "source": [
    "# get pandas to read tsv table and store in wellcome_data\n",
    "# use regular expresion to seperate times link number out\n",
    "# store collumns in 'origin', 'link' and 'times linked' columns\n",
    "wellcome_data = pd.read_table('wellcome-linkage.tsv', names=['year','origin','link','times-linked'], sep='\\||\\t', engine='python')\n"
   ]
  },
  {
   "cell_type": "code",
   "execution_count": 5,
   "metadata": {
    "collapsed": false,
    "scrolled": true
   },
   "outputs": [
    {
     "data": {
      "text/html": [
       "<div>\n",
       "<table border=\"1\" class=\"dataframe\">\n",
       "  <thead>\n",
       "    <tr style=\"text-align: right;\">\n",
       "      <th></th>\n",
       "      <th>year</th>\n",
       "      <th>origin</th>\n",
       "      <th>link</th>\n",
       "      <th>times-linked</th>\n",
       "    </tr>\n",
       "  </thead>\n",
       "  <tbody>\n",
       "    <tr>\n",
       "      <th>0</th>\n",
       "      <td>1996</td>\n",
       "      <td>odin.neuro.soton.ac.uk</td>\n",
       "      <td>www.wellcome.ac.uk</td>\n",
       "      <td>1</td>\n",
       "    </tr>\n",
       "    <tr>\n",
       "      <th>1</th>\n",
       "      <td>1996</td>\n",
       "      <td>tarantula.wellcome.ac.uk</td>\n",
       "      <td>tarantula.wellcome.ac.uk</td>\n",
       "      <td>24</td>\n",
       "    </tr>\n",
       "    <tr>\n",
       "      <th>2</th>\n",
       "      <td>1996</td>\n",
       "      <td>www.ability.org.uk</td>\n",
       "      <td>www.tmr.wellcome.ac.uk</td>\n",
       "      <td>1</td>\n",
       "    </tr>\n",
       "    <tr>\n",
       "      <th>3</th>\n",
       "      <td>1996</td>\n",
       "      <td>www.healthindex.co.uk</td>\n",
       "      <td>www.tmr.wellcome.ac.uk</td>\n",
       "      <td>1</td>\n",
       "    </tr>\n",
       "    <tr>\n",
       "      <th>4</th>\n",
       "      <td>1997</td>\n",
       "      <td>atuin.chime.ucl.ac.uk</td>\n",
       "      <td>www.wellcome.ac.uk</td>\n",
       "      <td>10</td>\n",
       "    </tr>\n",
       "    <tr>\n",
       "      <th>5</th>\n",
       "      <td>1997</td>\n",
       "      <td>back.niss.ac.uk</td>\n",
       "      <td>www.wellcome.ac.uk</td>\n",
       "      <td>1</td>\n",
       "    </tr>\n",
       "    <tr>\n",
       "      <th>6</th>\n",
       "      <td>1997</td>\n",
       "      <td>bushmills.mic.dundee.ac.uk</td>\n",
       "      <td>www.wellcome.ac.uk</td>\n",
       "      <td>2</td>\n",
       "    </tr>\n",
       "    <tr>\n",
       "      <th>7</th>\n",
       "      <td>1997</td>\n",
       "      <td>com2.uclan.ac.uk</td>\n",
       "      <td>www.wellcome.ac.uk</td>\n",
       "      <td>7</td>\n",
       "    </tr>\n",
       "    <tr>\n",
       "      <th>8</th>\n",
       "      <td>1997</td>\n",
       "      <td>epidemic.zoo.ox.ac.uk</td>\n",
       "      <td>www.tmr.wellcome.ac.uk</td>\n",
       "      <td>2</td>\n",
       "    </tr>\n",
       "    <tr>\n",
       "      <th>9</th>\n",
       "      <td>1997</td>\n",
       "      <td>garbo.psychol.ucl.ac.uk</td>\n",
       "      <td>www.wellcome.ac.uk</td>\n",
       "      <td>5</td>\n",
       "    </tr>\n",
       "  </tbody>\n",
       "</table>\n",
       "</div>"
      ],
      "text/plain": [
       "   year                      origin                      link  times-linked\n",
       "0  1996      odin.neuro.soton.ac.uk        www.wellcome.ac.uk             1\n",
       "1  1996    tarantula.wellcome.ac.uk  tarantula.wellcome.ac.uk            24\n",
       "2  1996          www.ability.org.uk    www.tmr.wellcome.ac.uk             1\n",
       "3  1996       www.healthindex.co.uk    www.tmr.wellcome.ac.uk             1\n",
       "4  1997       atuin.chime.ucl.ac.uk        www.wellcome.ac.uk            10\n",
       "5  1997             back.niss.ac.uk        www.wellcome.ac.uk             1\n",
       "6  1997  bushmills.mic.dundee.ac.uk        www.wellcome.ac.uk             2\n",
       "7  1997            com2.uclan.ac.uk        www.wellcome.ac.uk             7\n",
       "8  1997       epidemic.zoo.ox.ac.uk    www.tmr.wellcome.ac.uk             2\n",
       "9  1997     garbo.psychol.ucl.ac.uk        www.wellcome.ac.uk             5"
      ]
     },
     "execution_count": 5,
     "metadata": {},
     "output_type": "execute_result"
    }
   ],
   "source": [
    "wellcome_data.head(10)"
   ]
  },
  {
   "cell_type": "markdown",
   "metadata": {},
   "source": [
    "The above table shows the first ten rows of our dataset. We can see that some of these links are from other domains linking to the Wellcome Trust domain whilst others are from Wellcome Trust domain going out. We will explore this more below. We can also see in the times linked collumn the number of times this domain is linked from the 'origin' to the 'link' domain. "
   ]
  },
  {
   "cell_type": "markdown",
   "metadata": {},
   "source": [
    "### Sorting data by times-linked\n",
    "\n",
    "Lets now sort by times linked. This will allow us to see which links were linked the most times. "
   ]
  },
  {
   "cell_type": "code",
   "execution_count": 5,
   "metadata": {
    "collapsed": false,
    "scrolled": true
   },
   "outputs": [
    {
     "data": {
      "text/html": [
       "<div>\n",
       "<table border=\"1\" class=\"dataframe\">\n",
       "  <thead>\n",
       "    <tr style=\"text-align: right;\">\n",
       "      <th></th>\n",
       "      <th>year</th>\n",
       "      <th>origin</th>\n",
       "      <th>link</th>\n",
       "      <th>times-linked</th>\n",
       "    </tr>\n",
       "  </thead>\n",
       "  <tbody>\n",
       "    <tr>\n",
       "      <th>14321</th>\n",
       "      <td>2004</td>\n",
       "      <td>www.wellcome.ac.uk</td>\n",
       "      <td>www.wellcome.ac.uk</td>\n",
       "      <td>619077</td>\n",
       "    </tr>\n",
       "    <tr>\n",
       "      <th>10467</th>\n",
       "      <td>2003</td>\n",
       "      <td>www.wellcome.ac.uk</td>\n",
       "      <td>www.wellcome.ac.uk</td>\n",
       "      <td>483541</td>\n",
       "    </tr>\n",
       "    <tr>\n",
       "      <th>26772</th>\n",
       "      <td>2008</td>\n",
       "      <td>www.wellcome.ac.uk</td>\n",
       "      <td>www.wellcome.ac.uk</td>\n",
       "      <td>247042</td>\n",
       "    </tr>\n",
       "    <tr>\n",
       "      <th>17552</th>\n",
       "      <td>2005</td>\n",
       "      <td>www.wellcome.ac.uk</td>\n",
       "      <td>www.wellcome.ac.uk</td>\n",
       "      <td>237786</td>\n",
       "    </tr>\n",
       "    <tr>\n",
       "      <th>23856</th>\n",
       "      <td>2007</td>\n",
       "      <td>www.wellcome.ac.uk</td>\n",
       "      <td>www.wellcome.ac.uk</td>\n",
       "      <td>180320</td>\n",
       "    </tr>\n",
       "    <tr>\n",
       "      <th>20498</th>\n",
       "      <td>2006</td>\n",
       "      <td>www.wellcome.ac.uk</td>\n",
       "      <td>www.wellcome.ac.uk</td>\n",
       "      <td>169626</td>\n",
       "    </tr>\n",
       "    <tr>\n",
       "      <th>10922</th>\n",
       "      <td>2004</td>\n",
       "      <td>library.wellcome.ac.uk</td>\n",
       "      <td>library.wellcome.ac.uk</td>\n",
       "      <td>134802</td>\n",
       "    </tr>\n",
       "    <tr>\n",
       "      <th>4921</th>\n",
       "      <td>2001</td>\n",
       "      <td>www.wellcome.ac.uk</td>\n",
       "      <td>www.wellcome.ac.uk</td>\n",
       "      <td>125546</td>\n",
       "    </tr>\n",
       "    <tr>\n",
       "      <th>14751</th>\n",
       "      <td>2005</td>\n",
       "      <td>library.wellcome.ac.uk</td>\n",
       "      <td>library.wellcome.ac.uk</td>\n",
       "      <td>114517</td>\n",
       "    </tr>\n",
       "    <tr>\n",
       "      <th>31673</th>\n",
       "      <td>2010</td>\n",
       "      <td>www.wellcome.ac.uk</td>\n",
       "      <td>www.wellcome.ac.uk</td>\n",
       "      <td>109542</td>\n",
       "    </tr>\n",
       "  </tbody>\n",
       "</table>\n",
       "</div>"
      ],
      "text/plain": [
       "       year                  origin                    link  times-linked\n",
       "14321  2004      www.wellcome.ac.uk      www.wellcome.ac.uk        619077\n",
       "10467  2003      www.wellcome.ac.uk      www.wellcome.ac.uk        483541\n",
       "26772  2008      www.wellcome.ac.uk      www.wellcome.ac.uk        247042\n",
       "17552  2005      www.wellcome.ac.uk      www.wellcome.ac.uk        237786\n",
       "23856  2007      www.wellcome.ac.uk      www.wellcome.ac.uk        180320\n",
       "20498  2006      www.wellcome.ac.uk      www.wellcome.ac.uk        169626\n",
       "10922  2004  library.wellcome.ac.uk  library.wellcome.ac.uk        134802\n",
       "4921   2001      www.wellcome.ac.uk      www.wellcome.ac.uk        125546\n",
       "14751  2005  library.wellcome.ac.uk  library.wellcome.ac.uk        114517\n",
       "31673  2010      www.wellcome.ac.uk      www.wellcome.ac.uk        109542"
      ]
     },
     "execution_count": 5,
     "metadata": {},
     "output_type": "execute_result"
    }
   ],
   "source": [
    "wellcome_data.sort_values(by='times-linked', ascending=0)[:10]"
   ]
  },
  {
   "cell_type": "markdown",
   "metadata": {},
   "source": [
    "We can see that a majority of these links are internal links. We should also be cautious with these link numbers because of the way logging of links across years was done (see above). Lets get ride of internal links. "
   ]
  },
  {
   "cell_type": "code",
   "execution_count": 15,
   "metadata": {
    "collapsed": false
   },
   "outputs": [],
   "source": [
    "# loop out internal links. \n",
    "links = []\n",
    "for link in wellcome_data.link:\n",
    "    if \"wellcome\" in link :\n",
    "        links.append(False)\n",
    "    else:\n",
    "        links.append(True)\n",
    "links[0:5]\n",
    "\n",
    "not_internal_link = pd.Series(links)"
   ]
  },
  {
   "cell_type": "code",
   "execution_count": 16,
   "metadata": {
    "collapsed": false
   },
   "outputs": [
    {
     "data": {
      "text/html": [
       "<div>\n",
       "<table border=\"1\" class=\"dataframe\">\n",
       "  <thead>\n",
       "    <tr style=\"text-align: right;\">\n",
       "      <th></th>\n",
       "      <th>year</th>\n",
       "      <th>origin</th>\n",
       "      <th>link</th>\n",
       "      <th>times-linked</th>\n",
       "    </tr>\n",
       "  </thead>\n",
       "  <tbody>\n",
       "    <tr>\n",
       "      <th>98</th>\n",
       "      <td>1997</td>\n",
       "      <td>www.wellcome.ac.uk</td>\n",
       "      <td>www.campus.bt.com</td>\n",
       "      <td>2</td>\n",
       "    </tr>\n",
       "    <tr>\n",
       "      <th>99</th>\n",
       "      <td>1997</td>\n",
       "      <td>www.wellcome.ac.uk</td>\n",
       "      <td>www.macromedia.com</td>\n",
       "      <td>3</td>\n",
       "    </tr>\n",
       "    <tr>\n",
       "      <th>100</th>\n",
       "      <td>1997</td>\n",
       "      <td>www.wellcome.ac.uk</td>\n",
       "      <td>www.ucl.ac.uk</td>\n",
       "      <td>5</td>\n",
       "    </tr>\n",
       "    <tr>\n",
       "      <th>203</th>\n",
       "      <td>1998</td>\n",
       "      <td>tarantula.wellcome.ac.uk</td>\n",
       "      <td>bbsrc.ac.uk</td>\n",
       "      <td>2</td>\n",
       "    </tr>\n",
       "    <tr>\n",
       "      <th>204</th>\n",
       "      <td>1998</td>\n",
       "      <td>tarantula.wellcome.ac.uk</td>\n",
       "      <td>bimednet.com</td>\n",
       "      <td>2</td>\n",
       "    </tr>\n",
       "    <tr>\n",
       "      <th>205</th>\n",
       "      <td>1998</td>\n",
       "      <td>tarantula.wellcome.ac.uk</td>\n",
       "      <td>biotech.chem.indiana.edu</td>\n",
       "      <td>2</td>\n",
       "    </tr>\n",
       "    <tr>\n",
       "      <th>206</th>\n",
       "      <td>1998</td>\n",
       "      <td>tarantula.wellcome.ac.uk</td>\n",
       "      <td>cebm.jr2.ox.ac.uk</td>\n",
       "      <td>2</td>\n",
       "    </tr>\n",
       "    <tr>\n",
       "      <th>207</th>\n",
       "      <td>1998</td>\n",
       "      <td>tarantula.wellcome.ac.uk</td>\n",
       "      <td>cnn.com</td>\n",
       "      <td>2</td>\n",
       "    </tr>\n",
       "    <tr>\n",
       "      <th>208</th>\n",
       "      <td>1998</td>\n",
       "      <td>tarantula.wellcome.ac.uk</td>\n",
       "      <td>croma.ebi.ac.uk</td>\n",
       "      <td>2</td>\n",
       "    </tr>\n",
       "    <tr>\n",
       "      <th>209</th>\n",
       "      <td>1998</td>\n",
       "      <td>tarantula.wellcome.ac.uk</td>\n",
       "      <td>darwin.cshl.org</td>\n",
       "      <td>3</td>\n",
       "    </tr>\n",
       "  </tbody>\n",
       "</table>\n",
       "</div>"
      ],
      "text/plain": [
       "     year                    origin                      link  times-linked\n",
       "98   1997        www.wellcome.ac.uk         www.campus.bt.com             2\n",
       "99   1997        www.wellcome.ac.uk        www.macromedia.com             3\n",
       "100  1997        www.wellcome.ac.uk             www.ucl.ac.uk             5\n",
       "203  1998  tarantula.wellcome.ac.uk               bbsrc.ac.uk             2\n",
       "204  1998  tarantula.wellcome.ac.uk              bimednet.com             2\n",
       "205  1998  tarantula.wellcome.ac.uk  biotech.chem.indiana.edu             2\n",
       "206  1998  tarantula.wellcome.ac.uk         cebm.jr2.ox.ac.uk             2\n",
       "207  1998  tarantula.wellcome.ac.uk                   cnn.com             2\n",
       "208  1998  tarantula.wellcome.ac.uk           croma.ebi.ac.uk             2\n",
       "209  1998  tarantula.wellcome.ac.uk           darwin.cshl.org             3"
      ]
     },
     "execution_count": 16,
     "metadata": {},
     "output_type": "execute_result"
    }
   ],
   "source": [
    "wellcome_external_links = wellcome_data[not_internal_link]\n",
    "wellcome_external_links.head(10)"
   ]
  },
  {
   "cell_type": "markdown",
   "metadata": {},
   "source": [
    "Now we are left with only external links. We can already see that some of this information could potentially be of interest. We can now sort by times-linked for external links. "
   ]
  },
  {
   "cell_type": "markdown",
   "metadata": {},
   "source": [
    "#### Most linked external links"
   ]
  },
  {
   "cell_type": "code",
   "execution_count": 50,
   "metadata": {
    "collapsed": false
   },
   "outputs": [
    {
     "data": {
      "text/html": [
       "<div>\n",
       "<table border=\"1\" class=\"dataframe\">\n",
       "  <thead>\n",
       "    <tr style=\"text-align: right;\">\n",
       "      <th></th>\n",
       "      <th>year</th>\n",
       "      <th>origin</th>\n",
       "      <th>link</th>\n",
       "      <th>times-linked</th>\n",
       "    </tr>\n",
       "  </thead>\n",
       "  <tbody>\n",
       "    <tr>\n",
       "      <th>26252</th>\n",
       "      <td>2008</td>\n",
       "      <td>www.wellcome.ac.uk</td>\n",
       "      <td>www.facebook.com</td>\n",
       "      <td>2411</td>\n",
       "    </tr>\n",
       "    <tr>\n",
       "      <th>25908</th>\n",
       "      <td>2008</td>\n",
       "      <td>www.wellcome.ac.uk</td>\n",
       "      <td>digg.com</td>\n",
       "      <td>2410</td>\n",
       "    </tr>\n",
       "    <tr>\n",
       "      <th>25983</th>\n",
       "      <td>2008</td>\n",
       "      <td>www.wellcome.ac.uk</td>\n",
       "      <td>reddit.com</td>\n",
       "      <td>2410</td>\n",
       "    </tr>\n",
       "    <tr>\n",
       "      <th>25906</th>\n",
       "      <td>2008</td>\n",
       "      <td>www.wellcome.ac.uk</td>\n",
       "      <td>del.icio.us</td>\n",
       "      <td>2410</td>\n",
       "    </tr>\n",
       "    <tr>\n",
       "      <th>26684</th>\n",
       "      <td>2008</td>\n",
       "      <td>www.wellcome.ac.uk</td>\n",
       "      <td>www.stumbleupon.com</td>\n",
       "      <td>2410</td>\n",
       "    </tr>\n",
       "    <tr>\n",
       "      <th>25963</th>\n",
       "      <td>2008</td>\n",
       "      <td>www.wellcome.ac.uk</td>\n",
       "      <td>myweb2.search.yahoo.com</td>\n",
       "      <td>2410</td>\n",
       "    </tr>\n",
       "    <tr>\n",
       "      <th>31256</th>\n",
       "      <td>2010</td>\n",
       "      <td>www.wellcome.ac.uk</td>\n",
       "      <td>www.facebook.com</td>\n",
       "      <td>1656</td>\n",
       "    </tr>\n",
       "    <tr>\n",
       "      <th>31050</th>\n",
       "      <td>2010</td>\n",
       "      <td>www.wellcome.ac.uk</td>\n",
       "      <td>twitter.com</td>\n",
       "      <td>1654</td>\n",
       "    </tr>\n",
       "    <tr>\n",
       "      <th>31014</th>\n",
       "      <td>2010</td>\n",
       "      <td>www.wellcome.ac.uk</td>\n",
       "      <td>myweb2.search.yahoo.com</td>\n",
       "      <td>1650</td>\n",
       "    </tr>\n",
       "    <tr>\n",
       "      <th>30960</th>\n",
       "      <td>2010</td>\n",
       "      <td>www.wellcome.ac.uk</td>\n",
       "      <td>del.icio.us</td>\n",
       "      <td>1650</td>\n",
       "    </tr>\n",
       "  </tbody>\n",
       "</table>\n",
       "</div>"
      ],
      "text/plain": [
       "       year              origin                     link  times-linked\n",
       "26252  2008  www.wellcome.ac.uk         www.facebook.com          2411\n",
       "25908  2008  www.wellcome.ac.uk                 digg.com          2410\n",
       "25983  2008  www.wellcome.ac.uk               reddit.com          2410\n",
       "25906  2008  www.wellcome.ac.uk              del.icio.us          2410\n",
       "26684  2008  www.wellcome.ac.uk      www.stumbleupon.com          2410\n",
       "25963  2008  www.wellcome.ac.uk  myweb2.search.yahoo.com          2410\n",
       "31256  2010  www.wellcome.ac.uk         www.facebook.com          1656\n",
       "31050  2010  www.wellcome.ac.uk              twitter.com          1654\n",
       "31014  2010  www.wellcome.ac.uk  myweb2.search.yahoo.com          1650\n",
       "30960  2010  www.wellcome.ac.uk              del.icio.us          1650"
      ]
     },
     "execution_count": 50,
     "metadata": {},
     "output_type": "execute_result"
    }
   ],
   "source": [
    "wellcome_external_links.sort_values(by=\"times-linked\", ascending=0)[:10]"
   ]
  },
  {
   "cell_type": "markdown",
   "metadata": {},
   "source": [
    "We can see that the top links are all for various social media websites. This is maybe not particularly suprising but it might provide a starting point for considering how an organisation like the Wellcome communicates through the web. \n",
    "\n",
    "We may also be interested to see whether the top links have changed over time. \n"
   ]
  },
  {
   "cell_type": "markdown",
   "metadata": {},
   "source": [
    "#### How links change over time. "
   ]
  },
  {
   "cell_type": "code",
   "execution_count": 17,
   "metadata": {
    "collapsed": false
   },
   "outputs": [
    {
     "data": {
      "text/html": [
       "<div>\n",
       "<table border=\"1\" class=\"dataframe\">\n",
       "  <thead>\n",
       "    <tr style=\"text-align: right;\">\n",
       "      <th></th>\n",
       "      <th>year</th>\n",
       "      <th>origin</th>\n",
       "      <th>link</th>\n",
       "      <th>times-linked</th>\n",
       "    </tr>\n",
       "  </thead>\n",
       "  <tbody>\n",
       "    <tr>\n",
       "      <th>100</th>\n",
       "      <td>1997</td>\n",
       "      <td>www.wellcome.ac.uk</td>\n",
       "      <td>www.ucl.ac.uk</td>\n",
       "      <td>5</td>\n",
       "    </tr>\n",
       "    <tr>\n",
       "      <th>99</th>\n",
       "      <td>1997</td>\n",
       "      <td>www.wellcome.ac.uk</td>\n",
       "      <td>www.macromedia.com</td>\n",
       "      <td>3</td>\n",
       "    </tr>\n",
       "    <tr>\n",
       "      <th>98</th>\n",
       "      <td>1997</td>\n",
       "      <td>www.wellcome.ac.uk</td>\n",
       "      <td>www.campus.bt.com</td>\n",
       "      <td>2</td>\n",
       "    </tr>\n",
       "  </tbody>\n",
       "</table>\n",
       "</div>"
      ],
      "text/plain": [
       "     year              origin                link  times-linked\n",
       "100  1997  www.wellcome.ac.uk       www.ucl.ac.uk             5\n",
       "99   1997  www.wellcome.ac.uk  www.macromedia.com             3\n",
       "98   1997  www.wellcome.ac.uk   www.campus.bt.com             2"
      ]
     },
     "execution_count": 17,
     "metadata": {},
     "output_type": "execute_result"
    }
   ],
   "source": [
    "wellcome_external_links[wellcome_external_links.year==1997].sort_values(by=\"times-linked\", ascending=0)"
   ]
  },
  {
   "cell_type": "code",
   "execution_count": 18,
   "metadata": {
    "collapsed": false
   },
   "outputs": [
    {
     "data": {
      "text/html": [
       "<div>\n",
       "<table border=\"1\" class=\"dataframe\">\n",
       "  <thead>\n",
       "    <tr style=\"text-align: right;\">\n",
       "      <th></th>\n",
       "      <th>year</th>\n",
       "      <th>origin</th>\n",
       "      <th>link</th>\n",
       "      <th>times-linked</th>\n",
       "    </tr>\n",
       "  </thead>\n",
       "  <tbody>\n",
       "    <tr>\n",
       "      <th>360</th>\n",
       "      <td>1998</td>\n",
       "      <td>tarantula.wellcome.ac.uk</td>\n",
       "      <td>www.umds.ac.uk</td>\n",
       "      <td>22</td>\n",
       "    </tr>\n",
       "    <tr>\n",
       "      <th>320</th>\n",
       "      <td>1998</td>\n",
       "      <td>tarantula.wellcome.ac.uk</td>\n",
       "      <td>www.ncbi.nlm.nih.gov</td>\n",
       "      <td>10</td>\n",
       "    </tr>\n",
       "    <tr>\n",
       "      <th>335</th>\n",
       "      <td>1998</td>\n",
       "      <td>tarantula.wellcome.ac.uk</td>\n",
       "      <td>www.omni.ac.uk</td>\n",
       "      <td>8</td>\n",
       "    </tr>\n",
       "    <tr>\n",
       "      <th>239</th>\n",
       "      <td>1998</td>\n",
       "      <td>tarantula.wellcome.ac.uk</td>\n",
       "      <td>www.adobe.com</td>\n",
       "      <td>8</td>\n",
       "    </tr>\n",
       "    <tr>\n",
       "      <th>308</th>\n",
       "      <td>1998</td>\n",
       "      <td>tarantula.wellcome.ac.uk</td>\n",
       "      <td>www.mailbase.ac.uk</td>\n",
       "      <td>8</td>\n",
       "    </tr>\n",
       "    <tr>\n",
       "      <th>352</th>\n",
       "      <td>1998</td>\n",
       "      <td>tarantula.wellcome.ac.uk</td>\n",
       "      <td>www.shef.ac.uk</td>\n",
       "      <td>8</td>\n",
       "    </tr>\n",
       "    <tr>\n",
       "      <th>277</th>\n",
       "      <td>1998</td>\n",
       "      <td>tarantula.wellcome.ac.uk</td>\n",
       "      <td>www.exploratory.org.uk</td>\n",
       "      <td>8</td>\n",
       "    </tr>\n",
       "    <tr>\n",
       "      <th>370</th>\n",
       "      <td>1998</td>\n",
       "      <td>tarantula.wellcome.ac.uk</td>\n",
       "      <td>www.who.ch</td>\n",
       "      <td>6</td>\n",
       "    </tr>\n",
       "    <tr>\n",
       "      <th>254</th>\n",
       "      <td>1998</td>\n",
       "      <td>tarantula.wellcome.ac.uk</td>\n",
       "      <td>www.bmj.com</td>\n",
       "      <td>6</td>\n",
       "    </tr>\n",
       "    <tr>\n",
       "      <th>331</th>\n",
       "      <td>1998</td>\n",
       "      <td>tarantula.wellcome.ac.uk</td>\n",
       "      <td>www.nmsi.ac.uk</td>\n",
       "      <td>6</td>\n",
       "    </tr>\n",
       "  </tbody>\n",
       "</table>\n",
       "</div>"
      ],
      "text/plain": [
       "     year                    origin                    link  times-linked\n",
       "360  1998  tarantula.wellcome.ac.uk          www.umds.ac.uk            22\n",
       "320  1998  tarantula.wellcome.ac.uk    www.ncbi.nlm.nih.gov            10\n",
       "335  1998  tarantula.wellcome.ac.uk          www.omni.ac.uk             8\n",
       "239  1998  tarantula.wellcome.ac.uk           www.adobe.com             8\n",
       "308  1998  tarantula.wellcome.ac.uk      www.mailbase.ac.uk             8\n",
       "352  1998  tarantula.wellcome.ac.uk          www.shef.ac.uk             8\n",
       "277  1998  tarantula.wellcome.ac.uk  www.exploratory.org.uk             8\n",
       "370  1998  tarantula.wellcome.ac.uk              www.who.ch             6\n",
       "254  1998  tarantula.wellcome.ac.uk             www.bmj.com             6\n",
       "331  1998  tarantula.wellcome.ac.uk          www.nmsi.ac.uk             6"
      ]
     },
     "execution_count": 18,
     "metadata": {},
     "output_type": "execute_result"
    }
   ],
   "source": [
    "wellcome_external_links[wellcome_external_links.year==1998].sort_values(by=\"times-linked\", ascending=0).head(10)"
   ]
  },
  {
   "cell_type": "code",
   "execution_count": 19,
   "metadata": {
    "collapsed": false
   },
   "outputs": [
    {
     "data": {
      "text/html": [
       "<div>\n",
       "<table border=\"1\" class=\"dataframe\">\n",
       "  <thead>\n",
       "    <tr style=\"text-align: right;\">\n",
       "      <th></th>\n",
       "      <th>year</th>\n",
       "      <th>origin</th>\n",
       "      <th>link</th>\n",
       "      <th>times-linked</th>\n",
       "    </tr>\n",
       "  </thead>\n",
       "  <tbody>\n",
       "    <tr>\n",
       "      <th>1655</th>\n",
       "      <td>2000</td>\n",
       "      <td>wisdom.wellcome.ac.uk</td>\n",
       "      <td>www.swetsnet.nl</td>\n",
       "      <td>99</td>\n",
       "    </tr>\n",
       "    <tr>\n",
       "      <th>2599</th>\n",
       "      <td>2000</td>\n",
       "      <td>www.wellcome.ac.uk</td>\n",
       "      <td>www.ncbi.nlm.nih.gov</td>\n",
       "      <td>24</td>\n",
       "    </tr>\n",
       "    <tr>\n",
       "      <th>2361</th>\n",
       "      <td>2000</td>\n",
       "      <td>www.wellcome.ac.uk</td>\n",
       "      <td>www.doh.gov.uk</td>\n",
       "      <td>17</td>\n",
       "    </tr>\n",
       "    <tr>\n",
       "      <th>2135</th>\n",
       "      <td>2000</td>\n",
       "      <td>www.wellcome.ac.uk</td>\n",
       "      <td>omni.ac.uk</td>\n",
       "      <td>17</td>\n",
       "    </tr>\n",
       "    <tr>\n",
       "      <th>2548</th>\n",
       "      <td>2000</td>\n",
       "      <td>www.wellcome.ac.uk</td>\n",
       "      <td>www.mailbase.ac.uk</td>\n",
       "      <td>15</td>\n",
       "    </tr>\n",
       "    <tr>\n",
       "      <th>2735</th>\n",
       "      <td>2000</td>\n",
       "      <td>www.wellcome.ac.uk</td>\n",
       "      <td>www.shef.ac.uk</td>\n",
       "      <td>15</td>\n",
       "    </tr>\n",
       "    <tr>\n",
       "      <th>2364</th>\n",
       "      <td>2000</td>\n",
       "      <td>www.wellcome.ac.uk</td>\n",
       "      <td>www.dti.gov.uk</td>\n",
       "      <td>13</td>\n",
       "    </tr>\n",
       "    <tr>\n",
       "      <th>2223</th>\n",
       "      <td>2000</td>\n",
       "      <td>www.wellcome.ac.uk</td>\n",
       "      <td>www.ase.org.uk</td>\n",
       "      <td>13</td>\n",
       "    </tr>\n",
       "    <tr>\n",
       "      <th>1603</th>\n",
       "      <td>2000</td>\n",
       "      <td>wisdom.wellcome.ac.uk</td>\n",
       "      <td>www.nature.com</td>\n",
       "      <td>12</td>\n",
       "    </tr>\n",
       "    <tr>\n",
       "      <th>2718</th>\n",
       "      <td>2000</td>\n",
       "      <td>www.wellcome.ac.uk</td>\n",
       "      <td>www.sanger.ac.uk</td>\n",
       "      <td>12</td>\n",
       "    </tr>\n",
       "  </tbody>\n",
       "</table>\n",
       "</div>"
      ],
      "text/plain": [
       "      year                 origin                  link  times-linked\n",
       "1655  2000  wisdom.wellcome.ac.uk       www.swetsnet.nl            99\n",
       "2599  2000     www.wellcome.ac.uk  www.ncbi.nlm.nih.gov            24\n",
       "2361  2000     www.wellcome.ac.uk        www.doh.gov.uk            17\n",
       "2135  2000     www.wellcome.ac.uk            omni.ac.uk            17\n",
       "2548  2000     www.wellcome.ac.uk    www.mailbase.ac.uk            15\n",
       "2735  2000     www.wellcome.ac.uk        www.shef.ac.uk            15\n",
       "2364  2000     www.wellcome.ac.uk        www.dti.gov.uk            13\n",
       "2223  2000     www.wellcome.ac.uk        www.ase.org.uk            13\n",
       "1603  2000  wisdom.wellcome.ac.uk        www.nature.com            12\n",
       "2718  2000     www.wellcome.ac.uk      www.sanger.ac.uk            12"
      ]
     },
     "execution_count": 19,
     "metadata": {},
     "output_type": "execute_result"
    }
   ],
   "source": [
    "wellcome_external_links[wellcome_external_links.year==2000].sort_values(by=\"times-linked\", ascending=0).head(10)"
   ]
  },
  {
   "cell_type": "code",
   "execution_count": 20,
   "metadata": {
    "collapsed": false
   },
   "outputs": [
    {
     "data": {
      "text/html": [
       "<div>\n",
       "<table border=\"1\" class=\"dataframe\">\n",
       "  <thead>\n",
       "    <tr style=\"text-align: right;\">\n",
       "      <th></th>\n",
       "      <th>year</th>\n",
       "      <th>origin</th>\n",
       "      <th>link</th>\n",
       "      <th>times-linked</th>\n",
       "    </tr>\n",
       "  </thead>\n",
       "  <tbody>\n",
       "    <tr>\n",
       "      <th>15101</th>\n",
       "      <td>2005</td>\n",
       "      <td>library.wellcome.ac.uk</td>\n",
       "      <td>www.swetswise.com</td>\n",
       "      <td>258</td>\n",
       "    </tr>\n",
       "    <tr>\n",
       "      <th>16804</th>\n",
       "      <td>2005</td>\n",
       "      <td>www.wellcome.ac.uk</td>\n",
       "      <td>news.bbc.co.uk</td>\n",
       "      <td>171</td>\n",
       "    </tr>\n",
       "    <tr>\n",
       "      <th>17497</th>\n",
       "      <td>2005</td>\n",
       "      <td>www.wellcome.ac.uk</td>\n",
       "      <td>www.thebritishmuseum.ac.uk</td>\n",
       "      <td>166</td>\n",
       "    </tr>\n",
       "    <tr>\n",
       "      <th>17308</th>\n",
       "      <td>2005</td>\n",
       "      <td>www.wellcome.ac.uk</td>\n",
       "      <td>www.ncbi.nlm.nih.gov</td>\n",
       "      <td>153</td>\n",
       "    </tr>\n",
       "    <tr>\n",
       "      <th>17064</th>\n",
       "      <td>2005</td>\n",
       "      <td>www.wellcome.ac.uk</td>\n",
       "      <td>www.eurekalert.org</td>\n",
       "      <td>143</td>\n",
       "    </tr>\n",
       "    <tr>\n",
       "      <th>17427</th>\n",
       "      <td>2005</td>\n",
       "      <td>www.wellcome.ac.uk</td>\n",
       "      <td>www.sanger.ac.uk</td>\n",
       "      <td>140</td>\n",
       "    </tr>\n",
       "    <tr>\n",
       "      <th>17435</th>\n",
       "      <td>2005</td>\n",
       "      <td>www.wellcome.ac.uk</td>\n",
       "      <td>www.sciencedaily.com</td>\n",
       "      <td>114</td>\n",
       "    </tr>\n",
       "    <tr>\n",
       "      <th>17514</th>\n",
       "      <td>2005</td>\n",
       "      <td>www.wellcome.ac.uk</td>\n",
       "      <td>www.ucl.ac.uk</td>\n",
       "      <td>104</td>\n",
       "    </tr>\n",
       "    <tr>\n",
       "      <th>14617</th>\n",
       "      <td>2005</td>\n",
       "      <td>hydra.hinxton.wellcome.ac.uk</td>\n",
       "      <td>www.statcounter.com</td>\n",
       "      <td>102</td>\n",
       "    </tr>\n",
       "    <tr>\n",
       "      <th>14612</th>\n",
       "      <td>2005</td>\n",
       "      <td>hydra.hinxton.wellcome.ac.uk</td>\n",
       "      <td>c4.statcounter.com</td>\n",
       "      <td>102</td>\n",
       "    </tr>\n",
       "  </tbody>\n",
       "</table>\n",
       "</div>"
      ],
      "text/plain": [
       "       year                        origin                        link  \\\n",
       "15101  2005        library.wellcome.ac.uk           www.swetswise.com   \n",
       "16804  2005            www.wellcome.ac.uk              news.bbc.co.uk   \n",
       "17497  2005            www.wellcome.ac.uk  www.thebritishmuseum.ac.uk   \n",
       "17308  2005            www.wellcome.ac.uk        www.ncbi.nlm.nih.gov   \n",
       "17064  2005            www.wellcome.ac.uk          www.eurekalert.org   \n",
       "17427  2005            www.wellcome.ac.uk            www.sanger.ac.uk   \n",
       "17435  2005            www.wellcome.ac.uk        www.sciencedaily.com   \n",
       "17514  2005            www.wellcome.ac.uk               www.ucl.ac.uk   \n",
       "14617  2005  hydra.hinxton.wellcome.ac.uk         www.statcounter.com   \n",
       "14612  2005  hydra.hinxton.wellcome.ac.uk          c4.statcounter.com   \n",
       "\n",
       "       times-linked  \n",
       "15101           258  \n",
       "16804           171  \n",
       "17497           166  \n",
       "17308           153  \n",
       "17064           143  \n",
       "17427           140  \n",
       "17435           114  \n",
       "17514           104  \n",
       "14617           102  \n",
       "14612           102  "
      ]
     },
     "execution_count": 20,
     "metadata": {},
     "output_type": "execute_result"
    }
   ],
   "source": [
    "wellcome_external_links[wellcome_external_links.year==2005].sort_values(by=\"times-linked\", ascending=0).head(10)"
   ]
  },
  {
   "cell_type": "markdown",
   "metadata": {},
   "source": [
    "TODO \n",
    "* add more commentary on value of the above. \n",
    "* visualise chaning links \n",
    "* how to follow up links?"
   ]
  },
  {
   "cell_type": "markdown",
   "metadata": {},
   "source": [
    "## Distribution of links in the dataset\n",
    "\n",
    "Now we have looked at some of the most linked sites we may be interested in the dataset more broadly. We can visualise how many links there are across the dataset. This will use the number of crawled links for each year, rather than the number of times that domain was linked. \n",
    "\n",
    "* number of links to and from the Wellome.ac.uk website. "
   ]
  },
  {
   "cell_type": "code",
   "execution_count": 23,
   "metadata": {
    "collapsed": false,
    "scrolled": false
   },
   "outputs": [
    {
     "data": {
      "text/plain": [
       "<matplotlib.text.Text at 0x111078780>"
      ]
     },
     "execution_count": 23,
     "metadata": {},
     "output_type": "execute_result"
    },
    {
     "data": {
      "image/png": "[encoded data removed]",
      "text/plain": [
       "<matplotlib.figure.Figure at 0x111e4bf98>"
      ]
     },
     "metadata": {},
     "output_type": "display_data"
    }
   ],
   "source": [
    "distro = sns.distplot(wellcome_data['year'], bins=14)\n",
    "distro.set_title('Distribution of links by year')\n"
   ]
  },
  {
   "cell_type": "markdown",
   "metadata": {},
   "source": [
    "At the moment this is showing both internal and external links i.e. ones going to and from the Wellcome. Lets just plot links out from the Wellcome. "
   ]
  },
  {
   "cell_type": "markdown",
   "metadata": {},
   "source": [
    "### Distribution of external links"
   ]
  },
  {
   "cell_type": "code",
   "execution_count": 11,
   "metadata": {
    "collapsed": false
   },
   "outputs": [
    {
     "data": {
      "text/plain": [
       "<matplotlib.axes._subplots.AxesSubplot at 0x10bd5a9b0>"
      ]
     },
     "execution_count": 11,
     "metadata": {},
     "output_type": "execute_result"
    },
    {
     "data": {
      "image/png": "[encoded data removed]",
      "text/plain": [
       "<matplotlib.figure.Figure at 0x10be8b320>"
      ]
     },
     "metadata": {},
     "output_type": "display_data"
    }
   ],
   "source": [
    "sns.distplot(wellcome_external_links['year'], bins=14)"
   ]
  },
  {
   "cell_type": "markdown",
   "metadata": {
    "collapsed": true
   },
   "source": [
    "TODO \n",
    "* add commentary on distribution.\n",
    "* compare to the distribution of the whole dataset - do the distributions vary?"
   ]
  },
  {
   "cell_type": "markdown",
   "metadata": {},
   "source": [
    "### Comparing links to and from the Wellcome\n",
    "We might be interested to compare the number of links to and from the Wellcome. "
   ]
  },
  {
   "cell_type": "code",
   "execution_count": 12,
   "metadata": {
    "collapsed": false
   },
   "outputs": [
    {
     "name": "stdout",
     "output_type": "stream",
     "text": [
      "out 14999\n",
      "in 17627\n",
      "-2628\n"
     ]
    }
   ],
   "source": [
    "wellcome_links_out = wellcome_data.origin.str.contains(r'wellcome').sum() \n",
    "print(\"out\", wellcome_links_out) \n",
    "wellcome_links_in = wellcome_data.link.str.contains(r'wellcome').sum()\n",
    "print(\"in\",wellcome_links_in)\n",
    "difference = wellcome_links_out - wellcome_links_in\n",
    "print(difference)"
   ]
  },
  {
   "cell_type": "markdown",
   "metadata": {},
   "source": [
    "TODO:\n",
    "- visualise distribution\n",
    "- compare across years"
   ]
  },
  {
   "cell_type": "markdown",
   "metadata": {},
   "source": [
    "## Dynamic link visualisation\n",
    "* This section utilises work by [Andrew Jackson](http://nbviewer.jupyter.org/github/anjackson/keeping-codes/blob/gh-pages/experiments/Visualising%20Link%20Dynamics.ipynb) on visualising this dataset. \n",
    "\n",
    "TODO:\n",
    "- modify code to work with Wellcome data. \n",
    "- upload video to youtube"
   ]
  },
  {
   "cell_type": "code",
   "execution_count": null,
   "metadata": {
    "collapsed": false
   },
   "outputs": [],
   "source": [
    "with open('wellcome-linkage.tsv', 'r') as f:\n",
    "    for line in f:\n",
    "        print(line)\n",
    "        row = line.rstrip().replace('|','\\t').split(\"\\t\")\n",
    "        print(row)\n",
    "        break"
   ]
  },
  {
   "cell_type": "code",
   "execution_count": null,
   "metadata": {
    "collapsed": false
   },
   "outputs": [],
   "source": [
    "import time\n",
    "\n",
    "def gource_format(line):\n",
    "    row = line.rstrip().replace('|','\\t').split(\"\\t\")\n",
    "    timestamp = int(time.mktime(time.strptime(row[0], \"%Y\")))\n",
    "    hostname = row[1]\n",
    "    blhost = row[2]\n",
    "    action = \"A\"\n",
    "    colour = \"FF0000\"\n",
    "    if( blhost.find(\"bl.uk\") == -1 ):\n",
    "        hostname = row[2]\n",
    "        blhost = row[1]\n",
    "        colour = \"0000FF\"\n",
    "    #path = '/'.join(reversed(blhost.split('.')))\n",
    "    #path = path +'/' + '/'.join(reversed(hostname.split('.')))\n",
    "    path = '/'.join(reversed(hostname.split('.')))\n",
    "    return \"{}|{}|{}|{}|{}\".format(timestamp,hostname,action,path,colour)\n",
    "    \n",
    "print(gource_format(\"1996|appserver.ed.ac.uk|portico.bl.uk\t1\"))\n",
    "\n",
    "\n",
    "    "
   ]
  },
  {
   "cell_type": "code",
   "execution_count": null,
   "metadata": {
    "collapsed": false
   },
   "outputs": [],
   "source": [
    "# Open input and output files\n",
    "with open('wellcome-linkage.tsv', 'r') as fin:\n",
    "    with open('wellcome-linkage.log', 'w') as fout:\n",
    "        counter = 0\n",
    "        for line in fin:\n",
    "            # Reformat:\n",
    "            # for each line gource_format definition used\n",
    "            new_line = gource_format(line)\n",
    "            fout.write(new_line)\n",
    "            fout.write('\\n')\n",
    "            \n",
    "            # Also count:\n",
    "            counter = counter + 1\n",
    "            \n",
    "            # Report progress:\n",
    "            if( counter%10000 == 0 ):\n",
    "                print(counter, line, new_line, '\\n')\n",
    "            \n",
    "    # Report outcome:\n",
    "    print(\"Wrote {} lines.\".format(counter))\n",
    "    fout.close()\n",
    "    \n",
    "\n"
   ]
  },
  {
   "cell_type": "code",
   "execution_count": null,
   "metadata": {
    "collapsed": true
   },
   "outputs": [],
   "source": [
    "# todo - edit code for wellcome example\n",
    "\n",
    "import time\n",
    "\n",
    "# Takes a line from the linkage dataset and converts it into the form\n",
    "# (year, link_path, link_source, link_num)\n",
    "# Where 'actor' is the host that created the link\n",
    "def transform_link(line):\n",
    "    row = line.rstrip().replace('|','\\t').split(\"\\t\") \n",
    "    year = row[0]\n",
    "    link_source = row[1]\n",
    "    link_target = row[2]\n",
    "    host = row[1]\n",
    "    wellcome_host = row[2]\n",
    "    link_num = row[3]\n",
    "    if( blhost.find(\"wellcome.ac.uk\") == -1 ):\n",
    "        host = row[2]\n",
    "        wellcome_host = row[1]\n",
    "    path = '/'.join(reversed(host.split('.')))\n",
    "    return (year, path, link_source, link_num)\n",
    "\n",
    "# Open input and output files\n",
    "known = {}\n",
    "years = set()\n",
    "paths = set()\n",
    "counter = 0\n",
    "with open('./host-linkage/york-ac-uk-linkage.tsv', 'r') as fin:\n",
    "     for line in fin:\n",
    "            try:\n",
    "                # Reformat:\n",
    "                (year, path, link_source, link_num) = transform_link(line)\n",
    "                if( link_source.find(\"york.ac.uk\") == -1 ):\n",
    "                    link_type = \"in\"\n",
    "                else:\n",
    "                    link_type = \"out\"\n",
    "                key = \"{}|{}|{}\".format(year, path, link_type)\n",
    "                known[key] = link_num\n",
    "                years.add(year)\n",
    "                paths.add(path)\n",
    "                \n",
    "            except Exception as e:\n",
    "                print(e)\n",
    "                print(line)\n",
    "                stop\n",
    "            \n",
    "            # Also count:\n",
    "            counter = counter + 1\n",
    "            \n",
    "            # Report progress:\n",
    "            if( counter%10000 == 0 ):\n",
    "                print(counter, line, key, '\\n')\n",
    "            \n",
    "# Report outcome:\n",
    "print(\"Processed {} lines.\".format(counter))"
   ]
  },
  {
   "cell_type": "markdown",
   "metadata": {},
   "source": [
    "## Other possibilities \n",
    "There are a lot of other possibilities for this dataset. \n",
    "TODO\n",
    "- further network analysis \n",
    "- comparing with other institutions\n",
    "- comparing to the dataset as a whole\n",
    "- follow up links on waybackmachine. Allow for 'close reading'. "
   ]
  }
 ],
 "metadata": {
  "kernelspec": {
   "display_name": "Python 3",
   "language": "python",
   "name": "python3"
  },
  "language_info": {
   "codemirror_mode": {
    "name": "ipython",
    "version": 3
   },
   "file_extension": ".py",
   "mimetype": "text/x-python",
   "name": "python",
   "nbconvert_exporter": "python",
   "pygments_lexer": "ipython3",
   "version": "3.5.1"
  }
 },
 "nbformat": 4,
 "nbformat_minor": 0
}
